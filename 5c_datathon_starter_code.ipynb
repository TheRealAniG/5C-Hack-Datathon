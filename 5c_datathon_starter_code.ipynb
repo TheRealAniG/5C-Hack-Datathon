{
  "cells": [
    {
      "cell_type": "markdown",
      "metadata": {
        "id": "e3jSgoBQfj9T"
      },
      "source": [
        "How to download Kaggle Data https://www.kaggle.com/discussions/general/74235\n",
        "\n"
      ]
    },
    {
      "cell_type": "code",
      "execution_count": 313,
      "metadata": {
        "id": "qKveN8xSqS1B"
      },
      "outputs": [],
      "source": [
        "# Import neseccary modules.\n",
        "import pandas as pd\n",
        "import numpy as np"
      ]
    },
    {
      "cell_type": "markdown",
      "metadata": {
        "id": "mJnOcLGBqS1D"
      },
      "source": [
        "Load the dataset"
      ]
    },
    {
      "cell_type": "code",
      "execution_count": 314,
      "metadata": {
        "id": "XjCz9nsDqS1F"
      },
      "outputs": [],
      "source": [
        "train_data = pd.read_csv(\"datathon_train.csv\")"
      ]
    },
    {
      "cell_type": "markdown",
      "metadata": {
        "id": "u0Y4zgcMqS1F"
      },
      "source": [
        "Begin preliminary analysis of the data. Exploratory phase"
      ]
    },
    {
      "cell_type": "code",
      "execution_count": 315,
      "metadata": {
        "colab": {
          "base_uri": "https://localhost:8080/",
          "height": 342
        },
        "id": "EeHHtLVMqS1G",
        "outputId": "6ba8452d-548f-4a93-c740-959e2ecceede"
      },
      "outputs": [
        {
          "data": {
            "text/html": [
              "<div>\n",
              "<style scoped>\n",
              "    .dataframe tbody tr th:only-of-type {\n",
              "        vertical-align: middle;\n",
              "    }\n",
              "\n",
              "    .dataframe tbody tr th {\n",
              "        vertical-align: top;\n",
              "    }\n",
              "\n",
              "    .dataframe thead th {\n",
              "        text-align: right;\n",
              "    }\n",
              "</style>\n",
              "<table border=\"1\" class=\"dataframe\">\n",
              "  <thead>\n",
              "    <tr style=\"text-align: right;\">\n",
              "      <th></th>\n",
              "      <th>Id</th>\n",
              "      <th>MONTH</th>\n",
              "      <th>DAY_OF_MONTH</th>\n",
              "      <th>DAY_OF_WEEK</th>\n",
              "      <th>DEPARTING_AIRPORT</th>\n",
              "      <th>ORIGIN_CITY_NAME</th>\n",
              "      <th>DEST</th>\n",
              "      <th>DEST_CITY_NAME</th>\n",
              "      <th>DEP_TIME_BLK</th>\n",
              "      <th>DISTANCE</th>\n",
              "      <th>...</th>\n",
              "      <th>GROUND_SERV_PER_PASS</th>\n",
              "      <th>PLANE_AGE</th>\n",
              "      <th>PREVIOUS_AIRPORT</th>\n",
              "      <th>PRCP</th>\n",
              "      <th>SNOW</th>\n",
              "      <th>SNWD</th>\n",
              "      <th>TMAX</th>\n",
              "      <th>AWND</th>\n",
              "      <th>DEP_DELAY_NEW</th>\n",
              "      <th>IS_DELAYED</th>\n",
              "    </tr>\n",
              "  </thead>\n",
              "  <tbody>\n",
              "    <tr>\n",
              "      <th>0</th>\n",
              "      <td>0</td>\n",
              "      <td>1</td>\n",
              "      <td>17</td>\n",
              "      <td>4</td>\n",
              "      <td>Raleigh-Durham International</td>\n",
              "      <td>Raleigh/Durham, NC</td>\n",
              "      <td>JFK</td>\n",
              "      <td>New York, NY</td>\n",
              "      <td>1800-1859</td>\n",
              "      <td>427</td>\n",
              "      <td>...</td>\n",
              "      <td>0.000094</td>\n",
              "      <td>5</td>\n",
              "      <td>Ronald Reagan Washington National</td>\n",
              "      <td>0.01</td>\n",
              "      <td>0.0</td>\n",
              "      <td>0.0</td>\n",
              "      <td>49.0</td>\n",
              "      <td>4.70</td>\n",
              "      <td>2.0</td>\n",
              "      <td>1</td>\n",
              "    </tr>\n",
              "    <tr>\n",
              "      <th>1</th>\n",
              "      <td>1</td>\n",
              "      <td>2</td>\n",
              "      <td>27</td>\n",
              "      <td>3</td>\n",
              "      <td>San Jose International</td>\n",
              "      <td>San Jose, CA</td>\n",
              "      <td>BOS</td>\n",
              "      <td>Boston, MA</td>\n",
              "      <td>2200-2259</td>\n",
              "      <td>2689</td>\n",
              "      <td>...</td>\n",
              "      <td>0.000127</td>\n",
              "      <td>17</td>\n",
              "      <td>John F. Kennedy International</td>\n",
              "      <td>0.21</td>\n",
              "      <td>0.0</td>\n",
              "      <td>0.0</td>\n",
              "      <td>64.0</td>\n",
              "      <td>12.75</td>\n",
              "      <td>0.0</td>\n",
              "      <td>0</td>\n",
              "    </tr>\n",
              "    <tr>\n",
              "      <th>2</th>\n",
              "      <td>2</td>\n",
              "      <td>8</td>\n",
              "      <td>14</td>\n",
              "      <td>3</td>\n",
              "      <td>Los Angeles International</td>\n",
              "      <td>Los Angeles, CA</td>\n",
              "      <td>ATL</td>\n",
              "      <td>Atlanta, GA</td>\n",
              "      <td>0600-0659</td>\n",
              "      <td>1947</td>\n",
              "      <td>...</td>\n",
              "      <td>0.000149</td>\n",
              "      <td>23</td>\n",
              "      <td>NONE</td>\n",
              "      <td>0.00</td>\n",
              "      <td>0.0</td>\n",
              "      <td>0.0</td>\n",
              "      <td>74.0</td>\n",
              "      <td>8.50</td>\n",
              "      <td>0.0</td>\n",
              "      <td>0</td>\n",
              "    </tr>\n",
              "    <tr>\n",
              "      <th>3</th>\n",
              "      <td>3</td>\n",
              "      <td>3</td>\n",
              "      <td>16</td>\n",
              "      <td>6</td>\n",
              "      <td>Newark Liberty International</td>\n",
              "      <td>Newark, NJ</td>\n",
              "      <td>DTW</td>\n",
              "      <td>Detroit, MI</td>\n",
              "      <td>1400-1459</td>\n",
              "      <td>488</td>\n",
              "      <td>...</td>\n",
              "      <td>0.000124</td>\n",
              "      <td>4</td>\n",
              "      <td>Dallas Fort Worth Regional</td>\n",
              "      <td>0.00</td>\n",
              "      <td>0.0</td>\n",
              "      <td>0.0</td>\n",
              "      <td>56.0</td>\n",
              "      <td>17.67</td>\n",
              "      <td>0.0</td>\n",
              "      <td>0</td>\n",
              "    </tr>\n",
              "    <tr>\n",
              "      <th>4</th>\n",
              "      <td>4</td>\n",
              "      <td>6</td>\n",
              "      <td>20</td>\n",
              "      <td>4</td>\n",
              "      <td>Douglas Municipal</td>\n",
              "      <td>Charlotte, NC</td>\n",
              "      <td>JFK</td>\n",
              "      <td>New York, NY</td>\n",
              "      <td>1500-1559</td>\n",
              "      <td>541</td>\n",
              "      <td>...</td>\n",
              "      <td>0.000177</td>\n",
              "      <td>21</td>\n",
              "      <td>Myrtle Beach International</td>\n",
              "      <td>0.19</td>\n",
              "      <td>0.0</td>\n",
              "      <td>0.0</td>\n",
              "      <td>89.0</td>\n",
              "      <td>9.17</td>\n",
              "      <td>79.0</td>\n",
              "      <td>1</td>\n",
              "    </tr>\n",
              "  </tbody>\n",
              "</table>\n",
              "<p>5 rows × 32 columns</p>\n",
              "</div>"
            ],
            "text/plain": [
              "   Id  MONTH  DAY_OF_MONTH  DAY_OF_WEEK             DEPARTING_AIRPORT  \\\n",
              "0   0      1            17            4  Raleigh-Durham International   \n",
              "1   1      2            27            3        San Jose International   \n",
              "2   2      8            14            3     Los Angeles International   \n",
              "3   3      3            16            6  Newark Liberty International   \n",
              "4   4      6            20            4             Douglas Municipal   \n",
              "\n",
              "     ORIGIN_CITY_NAME DEST DEST_CITY_NAME DEP_TIME_BLK  DISTANCE  ...  \\\n",
              "0  Raleigh/Durham, NC  JFK   New York, NY    1800-1859       427  ...   \n",
              "1        San Jose, CA  BOS     Boston, MA    2200-2259      2689  ...   \n",
              "2     Los Angeles, CA  ATL    Atlanta, GA    0600-0659      1947  ...   \n",
              "3          Newark, NJ  DTW    Detroit, MI    1400-1459       488  ...   \n",
              "4       Charlotte, NC  JFK   New York, NY    1500-1559       541  ...   \n",
              "\n",
              "   GROUND_SERV_PER_PASS  PLANE_AGE                   PREVIOUS_AIRPORT  PRCP  \\\n",
              "0              0.000094          5  Ronald Reagan Washington National  0.01   \n",
              "1              0.000127         17      John F. Kennedy International  0.21   \n",
              "2              0.000149         23                               NONE  0.00   \n",
              "3              0.000124          4         Dallas Fort Worth Regional  0.00   \n",
              "4              0.000177         21         Myrtle Beach International  0.19   \n",
              "\n",
              "  SNOW  SNWD  TMAX   AWND  DEP_DELAY_NEW  IS_DELAYED  \n",
              "0  0.0   0.0  49.0   4.70            2.0           1  \n",
              "1  0.0   0.0  64.0  12.75            0.0           0  \n",
              "2  0.0   0.0  74.0   8.50            0.0           0  \n",
              "3  0.0   0.0  56.0  17.67            0.0           0  \n",
              "4  0.0   0.0  89.0   9.17           79.0           1  \n",
              "\n",
              "[5 rows x 32 columns]"
            ]
          },
          "execution_count": 315,
          "metadata": {},
          "output_type": "execute_result"
        }
      ],
      "source": [
        "train_data.head()"
      ]
    },
    {
      "cell_type": "code",
      "execution_count": 316,
      "metadata": {
        "id": "i_7nLKWZqS1H"
      },
      "outputs": [],
      "source": [
        "# Drop the Id column\n",
        "train_data.drop(\"Id\", axis=1, inplace=True)"
      ]
    },
    {
      "cell_type": "code",
      "execution_count": 317,
      "metadata": {
        "colab": {
          "base_uri": "https://localhost:8080/",
          "height": 350
        },
        "id": "NyLiBswAqS1I",
        "outputId": "564482fe-7881-4849-c8c0-ad3123713367"
      },
      "outputs": [
        {
          "data": {
            "text/html": [
              "<div>\n",
              "<style scoped>\n",
              "    .dataframe tbody tr th:only-of-type {\n",
              "        vertical-align: middle;\n",
              "    }\n",
              "\n",
              "    .dataframe tbody tr th {\n",
              "        vertical-align: top;\n",
              "    }\n",
              "\n",
              "    .dataframe thead th {\n",
              "        text-align: right;\n",
              "    }\n",
              "</style>\n",
              "<table border=\"1\" class=\"dataframe\">\n",
              "  <thead>\n",
              "    <tr style=\"text-align: right;\">\n",
              "      <th></th>\n",
              "      <th>MONTH</th>\n",
              "      <th>DAY_OF_MONTH</th>\n",
              "      <th>DAY_OF_WEEK</th>\n",
              "      <th>DISTANCE</th>\n",
              "      <th>SEGMENT_NUMBER</th>\n",
              "      <th>CONCURRENT_FLIGHTS</th>\n",
              "      <th>MANUFACTURE_YEAR</th>\n",
              "      <th>NUMBER_OF_SEATS</th>\n",
              "      <th>AIRPORT_FLIGHTS_MONTH</th>\n",
              "      <th>AIRLINE_FLIGHTS_MONTH</th>\n",
              "      <th>...</th>\n",
              "      <th>FLT_ATTENDANTS_PER_PASS</th>\n",
              "      <th>GROUND_SERV_PER_PASS</th>\n",
              "      <th>PLANE_AGE</th>\n",
              "      <th>PRCP</th>\n",
              "      <th>SNOW</th>\n",
              "      <th>SNWD</th>\n",
              "      <th>TMAX</th>\n",
              "      <th>AWND</th>\n",
              "      <th>DEP_DELAY_NEW</th>\n",
              "      <th>IS_DELAYED</th>\n",
              "    </tr>\n",
              "  </thead>\n",
              "  <tbody>\n",
              "    <tr>\n",
              "      <th>count</th>\n",
              "      <td>697224.000000</td>\n",
              "      <td>697224.000000</td>\n",
              "      <td>697224.000000</td>\n",
              "      <td>697224.000000</td>\n",
              "      <td>697224.000000</td>\n",
              "      <td>697224.000000</td>\n",
              "      <td>697224.000000</td>\n",
              "      <td>697224.000000</td>\n",
              "      <td>697224.000000</td>\n",
              "      <td>697224.00000</td>\n",
              "      <td>...</td>\n",
              "      <td>697224.000000</td>\n",
              "      <td>697224.000000</td>\n",
              "      <td>697224.000000</td>\n",
              "      <td>697224.000000</td>\n",
              "      <td>697224.000000</td>\n",
              "      <td>697224.000000</td>\n",
              "      <td>697224.000000</td>\n",
              "      <td>697224.000000</td>\n",
              "      <td>697224.000000</td>\n",
              "      <td>697224.000000</td>\n",
              "    </tr>\n",
              "    <tr>\n",
              "      <th>mean</th>\n",
              "      <td>6.620198</td>\n",
              "      <td>15.723732</td>\n",
              "      <td>3.931059</td>\n",
              "      <td>852.680886</td>\n",
              "      <td>3.064137</td>\n",
              "      <td>28.073635</td>\n",
              "      <td>2007.433931</td>\n",
              "      <td>134.799211</td>\n",
              "      <td>12398.966083</td>\n",
              "      <td>63379.64382</td>\n",
              "      <td>...</td>\n",
              "      <td>0.000099</td>\n",
              "      <td>0.000135</td>\n",
              "      <td>11.566069</td>\n",
              "      <td>0.104860</td>\n",
              "      <td>0.032057</td>\n",
              "      <td>0.090429</td>\n",
              "      <td>71.472508</td>\n",
              "      <td>8.369713</td>\n",
              "      <td>15.409382</td>\n",
              "      <td>0.399027</td>\n",
              "    </tr>\n",
              "    <tr>\n",
              "      <th>std</th>\n",
              "      <td>3.397212</td>\n",
              "      <td>8.756372</td>\n",
              "      <td>1.996984</td>\n",
              "      <td>611.715805</td>\n",
              "      <td>1.759975</td>\n",
              "      <td>21.329959</td>\n",
              "      <td>7.046577</td>\n",
              "      <td>47.035304</td>\n",
              "      <td>8315.616727</td>\n",
              "      <td>33670.96123</td>\n",
              "      <td>...</td>\n",
              "      <td>0.000085</td>\n",
              "      <td>0.000047</td>\n",
              "      <td>7.046577</td>\n",
              "      <td>0.342738</td>\n",
              "      <td>0.318871</td>\n",
              "      <td>0.724490</td>\n",
              "      <td>18.356162</td>\n",
              "      <td>3.609616</td>\n",
              "      <td>47.385170</td>\n",
              "      <td>0.489699</td>\n",
              "    </tr>\n",
              "    <tr>\n",
              "      <th>min</th>\n",
              "      <td>1.000000</td>\n",
              "      <td>1.000000</td>\n",
              "      <td>1.000000</td>\n",
              "      <td>66.000000</td>\n",
              "      <td>1.000000</td>\n",
              "      <td>1.000000</td>\n",
              "      <td>1987.000000</td>\n",
              "      <td>44.000000</td>\n",
              "      <td>1100.000000</td>\n",
              "      <td>835.00000</td>\n",
              "      <td>...</td>\n",
              "      <td>0.000000</td>\n",
              "      <td>0.000007</td>\n",
              "      <td>0.000000</td>\n",
              "      <td>0.000000</td>\n",
              "      <td>0.000000</td>\n",
              "      <td>0.000000</td>\n",
              "      <td>-10.000000</td>\n",
              "      <td>0.000000</td>\n",
              "      <td>0.000000</td>\n",
              "      <td>0.000000</td>\n",
              "    </tr>\n",
              "    <tr>\n",
              "      <th>25%</th>\n",
              "      <td>4.000000</td>\n",
              "      <td>8.000000</td>\n",
              "      <td>2.000000</td>\n",
              "      <td>402.000000</td>\n",
              "      <td>2.000000</td>\n",
              "      <td>11.000000</td>\n",
              "      <td>2002.000000</td>\n",
              "      <td>90.000000</td>\n",
              "      <td>5445.000000</td>\n",
              "      <td>25367.00000</td>\n",
              "      <td>...</td>\n",
              "      <td>0.000034</td>\n",
              "      <td>0.000099</td>\n",
              "      <td>5.000000</td>\n",
              "      <td>0.000000</td>\n",
              "      <td>0.000000</td>\n",
              "      <td>0.000000</td>\n",
              "      <td>59.000000</td>\n",
              "      <td>5.820000</td>\n",
              "      <td>0.000000</td>\n",
              "      <td>0.000000</td>\n",
              "    </tr>\n",
              "    <tr>\n",
              "      <th>50%</th>\n",
              "      <td>7.000000</td>\n",
              "      <td>16.000000</td>\n",
              "      <td>4.000000</td>\n",
              "      <td>687.000000</td>\n",
              "      <td>3.000000</td>\n",
              "      <td>23.000000</td>\n",
              "      <td>2007.000000</td>\n",
              "      <td>143.000000</td>\n",
              "      <td>11398.000000</td>\n",
              "      <td>68293.00000</td>\n",
              "      <td>...</td>\n",
              "      <td>0.000062</td>\n",
              "      <td>0.000125</td>\n",
              "      <td>12.000000</td>\n",
              "      <td>0.000000</td>\n",
              "      <td>0.000000</td>\n",
              "      <td>0.000000</td>\n",
              "      <td>74.000000</td>\n",
              "      <td>7.830000</td>\n",
              "      <td>0.000000</td>\n",
              "      <td>0.000000</td>\n",
              "    </tr>\n",
              "    <tr>\n",
              "      <th>75%</th>\n",
              "      <td>10.000000</td>\n",
              "      <td>23.000000</td>\n",
              "      <td>6.000000</td>\n",
              "      <td>1087.000000</td>\n",
              "      <td>4.000000</td>\n",
              "      <td>39.000000</td>\n",
              "      <td>2014.000000</td>\n",
              "      <td>173.000000</td>\n",
              "      <td>17499.000000</td>\n",
              "      <td>84667.00000</td>\n",
              "      <td>...</td>\n",
              "      <td>0.000144</td>\n",
              "      <td>0.000177</td>\n",
              "      <td>17.000000</td>\n",
              "      <td>0.020000</td>\n",
              "      <td>0.000000</td>\n",
              "      <td>0.000000</td>\n",
              "      <td>86.000000</td>\n",
              "      <td>10.510000</td>\n",
              "      <td>10.000000</td>\n",
              "      <td>1.000000</td>\n",
              "    </tr>\n",
              "    <tr>\n",
              "      <th>max</th>\n",
              "      <td>12.000000</td>\n",
              "      <td>31.000000</td>\n",
              "      <td>7.000000</td>\n",
              "      <td>5095.000000</td>\n",
              "      <td>15.000000</td>\n",
              "      <td>109.000000</td>\n",
              "      <td>2019.000000</td>\n",
              "      <td>337.000000</td>\n",
              "      <td>33340.000000</td>\n",
              "      <td>116615.00000</td>\n",
              "      <td>...</td>\n",
              "      <td>0.000348</td>\n",
              "      <td>0.000229</td>\n",
              "      <td>32.000000</td>\n",
              "      <td>11.630000</td>\n",
              "      <td>17.200000</td>\n",
              "      <td>25.200000</td>\n",
              "      <td>115.000000</td>\n",
              "      <td>33.780000</td>\n",
              "      <td>1742.000000</td>\n",
              "      <td>1.000000</td>\n",
              "    </tr>\n",
              "  </tbody>\n",
              "</table>\n",
              "<p>8 rows × 24 columns</p>\n",
              "</div>"
            ],
            "text/plain": [
              "               MONTH   DAY_OF_MONTH    DAY_OF_WEEK       DISTANCE  \\\n",
              "count  697224.000000  697224.000000  697224.000000  697224.000000   \n",
              "mean        6.620198      15.723732       3.931059     852.680886   \n",
              "std         3.397212       8.756372       1.996984     611.715805   \n",
              "min         1.000000       1.000000       1.000000      66.000000   \n",
              "25%         4.000000       8.000000       2.000000     402.000000   \n",
              "50%         7.000000      16.000000       4.000000     687.000000   \n",
              "75%        10.000000      23.000000       6.000000    1087.000000   \n",
              "max        12.000000      31.000000       7.000000    5095.000000   \n",
              "\n",
              "       SEGMENT_NUMBER  CONCURRENT_FLIGHTS  MANUFACTURE_YEAR  NUMBER_OF_SEATS  \\\n",
              "count   697224.000000       697224.000000     697224.000000    697224.000000   \n",
              "mean         3.064137           28.073635       2007.433931       134.799211   \n",
              "std          1.759975           21.329959          7.046577        47.035304   \n",
              "min          1.000000            1.000000       1987.000000        44.000000   \n",
              "25%          2.000000           11.000000       2002.000000        90.000000   \n",
              "50%          3.000000           23.000000       2007.000000       143.000000   \n",
              "75%          4.000000           39.000000       2014.000000       173.000000   \n",
              "max         15.000000          109.000000       2019.000000       337.000000   \n",
              "\n",
              "       AIRPORT_FLIGHTS_MONTH  AIRLINE_FLIGHTS_MONTH  ...  \\\n",
              "count          697224.000000           697224.00000  ...   \n",
              "mean            12398.966083            63379.64382  ...   \n",
              "std              8315.616727            33670.96123  ...   \n",
              "min              1100.000000              835.00000  ...   \n",
              "25%              5445.000000            25367.00000  ...   \n",
              "50%             11398.000000            68293.00000  ...   \n",
              "75%             17499.000000            84667.00000  ...   \n",
              "max             33340.000000           116615.00000  ...   \n",
              "\n",
              "       FLT_ATTENDANTS_PER_PASS  GROUND_SERV_PER_PASS      PLANE_AGE  \\\n",
              "count            697224.000000         697224.000000  697224.000000   \n",
              "mean                  0.000099              0.000135      11.566069   \n",
              "std                   0.000085              0.000047       7.046577   \n",
              "min                   0.000000              0.000007       0.000000   \n",
              "25%                   0.000034              0.000099       5.000000   \n",
              "50%                   0.000062              0.000125      12.000000   \n",
              "75%                   0.000144              0.000177      17.000000   \n",
              "max                   0.000348              0.000229      32.000000   \n",
              "\n",
              "                PRCP           SNOW           SNWD           TMAX  \\\n",
              "count  697224.000000  697224.000000  697224.000000  697224.000000   \n",
              "mean        0.104860       0.032057       0.090429      71.472508   \n",
              "std         0.342738       0.318871       0.724490      18.356162   \n",
              "min         0.000000       0.000000       0.000000     -10.000000   \n",
              "25%         0.000000       0.000000       0.000000      59.000000   \n",
              "50%         0.000000       0.000000       0.000000      74.000000   \n",
              "75%         0.020000       0.000000       0.000000      86.000000   \n",
              "max        11.630000      17.200000      25.200000     115.000000   \n",
              "\n",
              "                AWND  DEP_DELAY_NEW     IS_DELAYED  \n",
              "count  697224.000000  697224.000000  697224.000000  \n",
              "mean        8.369713      15.409382       0.399027  \n",
              "std         3.609616      47.385170       0.489699  \n",
              "min         0.000000       0.000000       0.000000  \n",
              "25%         5.820000       0.000000       0.000000  \n",
              "50%         7.830000       0.000000       0.000000  \n",
              "75%        10.510000      10.000000       1.000000  \n",
              "max        33.780000    1742.000000       1.000000  \n",
              "\n",
              "[8 rows x 24 columns]"
            ]
          },
          "execution_count": 317,
          "metadata": {},
          "output_type": "execute_result"
        }
      ],
      "source": [
        "# Get summary statistics\n",
        "train_data.describe()"
      ]
    },
    {
      "cell_type": "markdown",
      "metadata": {
        "id": "krD73NGqqS1I"
      },
      "source": [
        "Do we have an imbalanced dataset? Yes...yes we do."
      ]
    },
    {
      "cell_type": "code",
      "execution_count": 318,
      "metadata": {
        "colab": {
          "base_uri": "https://localhost:8080/"
        },
        "id": "c-zI5A8lqS1J",
        "outputId": "791b87ae-cead-4c5e-f833-2e3a6073ec09"
      },
      "outputs": [
        {
          "name": "stderr",
          "output_type": "stream",
          "text": [
            "/var/folders/cr/m32btyq969l6md66r6d5_9cm0000gn/T/ipykernel_49883/640870604.py:3: FutureWarning: pandas.value_counts is deprecated and will be removed in a future version. Use pd.Series(obj).value_counts() instead.\n",
            "  pd.value_counts(train_data[\"IS_DELAYED\"])\n"
          ]
        },
        {
          "data": {
            "text/plain": [
              "IS_DELAYED\n",
              "0    419013\n",
              "1    278211\n",
              "Name: count, dtype: int64"
            ]
          },
          "execution_count": 318,
          "metadata": {},
          "output_type": "execute_result"
        }
      ],
      "source": [
        "# Do we have an imbalanced dataset? Let's find the distribution of the target variable\n",
        "# Notice how there are many more flights (rows) that aren't delayed than flights that are\n",
        "pd.value_counts(train_data[\"IS_DELAYED\"])"
      ]
    },
    {
      "cell_type": "markdown",
      "metadata": {
        "id": "23lM9wBMqS1J"
      },
      "source": [
        "Let's decide what columns/features to use in our prediction."
      ]
    },
    {
      "cell_type": "code",
      "execution_count": 319,
      "metadata": {
        "colab": {
          "base_uri": "https://localhost:8080/"
        },
        "id": "7MUP9zgtqS1K",
        "outputId": "cb6b3c88-08f2-481b-8143-65f95c1fa901"
      },
      "outputs": [
        {
          "data": {
            "text/plain": [
              "Index(['MONTH', 'DAY_OF_MONTH', 'DAY_OF_WEEK', 'DEPARTING_AIRPORT',\n",
              "       'ORIGIN_CITY_NAME', 'DEST', 'DEST_CITY_NAME', 'DEP_TIME_BLK',\n",
              "       'DISTANCE', 'SEGMENT_NUMBER', 'CONCURRENT_FLIGHTS', 'MANUFACTURE_YEAR',\n",
              "       'NUMBER_OF_SEATS', 'CARRIER_NAME', 'AIRPORT_FLIGHTS_MONTH',\n",
              "       'AIRLINE_FLIGHTS_MONTH', 'AIRLINE_AIRPORT_FLIGHTS_MONTH',\n",
              "       'AVG_MONTHLY_PASS_AIRPORT', 'AVG_MONTHLY_PASS_AIRLINE',\n",
              "       'CARGO_HANDLING', 'FLT_ATTENDANTS_PER_PASS', 'GROUND_SERV_PER_PASS',\n",
              "       'PLANE_AGE', 'PREVIOUS_AIRPORT', 'PRCP', 'SNOW', 'SNWD', 'TMAX', 'AWND',\n",
              "       'DEP_DELAY_NEW', 'IS_DELAYED'],\n",
              "      dtype='object')"
            ]
          },
          "execution_count": 319,
          "metadata": {},
          "output_type": "execute_result"
        }
      ],
      "source": [
        "train_data.columns"
      ]
    },
    {
      "cell_type": "markdown",
      "metadata": {
        "id": "CLJMSBaIqS1L"
      },
      "source": [
        "1. Are any the features basically the \"same\" as another feature? Well, the airports and cities say the same thing, DEP_DEL_NEW should be removed, and manufacture year is the same variable as the age of the plane."
      ]
    },
    {
      "cell_type": "code",
      "execution_count": 320,
      "metadata": {
        "id": "NX9v0w1vqS1L"
      },
      "outputs": [],
      "source": [
        "# Let's drop the redundant features to reduce our training time in the future\n",
        "train_data.drop(['ORIGIN_CITY_NAME', 'DEST_CITY_NAME', 'MANUFACTURE_YEAR', 'DEP_DELAY_NEW'], axis=1, inplace=True)"
      ]
    },
    {
      "cell_type": "markdown",
      "metadata": {
        "id": "uo-fhMWZqS1L"
      },
      "source": [
        "Next, we have to turn the categorical variales into numbers so we can use them to train our model! We'll use sklearn's `LabelEncoder()` for this."
      ]
    },
    {
      "cell_type": "code",
      "execution_count": 321,
      "metadata": {
        "colab": {
          "base_uri": "https://localhost:8080/",
          "height": 342
        },
        "id": "f3ZWzcJ2qS1M",
        "outputId": "0e613a31-5494-4b17-a515-b866fa53621e"
      },
      "outputs": [
        {
          "data": {
            "text/html": [
              "<div>\n",
              "<style scoped>\n",
              "    .dataframe tbody tr th:only-of-type {\n",
              "        vertical-align: middle;\n",
              "    }\n",
              "\n",
              "    .dataframe tbody tr th {\n",
              "        vertical-align: top;\n",
              "    }\n",
              "\n",
              "    .dataframe thead th {\n",
              "        text-align: right;\n",
              "    }\n",
              "</style>\n",
              "<table border=\"1\" class=\"dataframe\">\n",
              "  <thead>\n",
              "    <tr style=\"text-align: right;\">\n",
              "      <th></th>\n",
              "      <th>MONTH</th>\n",
              "      <th>DAY_OF_MONTH</th>\n",
              "      <th>DAY_OF_WEEK</th>\n",
              "      <th>DEPARTING_AIRPORT</th>\n",
              "      <th>DEST</th>\n",
              "      <th>DEP_TIME_BLK</th>\n",
              "      <th>DISTANCE</th>\n",
              "      <th>SEGMENT_NUMBER</th>\n",
              "      <th>CONCURRENT_FLIGHTS</th>\n",
              "      <th>NUMBER_OF_SEATS</th>\n",
              "      <th>...</th>\n",
              "      <th>FLT_ATTENDANTS_PER_PASS</th>\n",
              "      <th>GROUND_SERV_PER_PASS</th>\n",
              "      <th>PLANE_AGE</th>\n",
              "      <th>PREVIOUS_AIRPORT</th>\n",
              "      <th>PRCP</th>\n",
              "      <th>SNOW</th>\n",
              "      <th>SNWD</th>\n",
              "      <th>TMAX</th>\n",
              "      <th>AWND</th>\n",
              "      <th>IS_DELAYED</th>\n",
              "    </tr>\n",
              "  </thead>\n",
              "  <tbody>\n",
              "    <tr>\n",
              "      <th>0</th>\n",
              "      <td>1</td>\n",
              "      <td>17</td>\n",
              "      <td>4</td>\n",
              "      <td>Raleigh-Durham International</td>\n",
              "      <td>JFK</td>\n",
              "      <td>1800-1859</td>\n",
              "      <td>427</td>\n",
              "      <td>6</td>\n",
              "      <td>13</td>\n",
              "      <td>76</td>\n",
              "      <td>...</td>\n",
              "      <td>0.000000</td>\n",
              "      <td>0.000094</td>\n",
              "      <td>5</td>\n",
              "      <td>Ronald Reagan Washington National</td>\n",
              "      <td>0.01</td>\n",
              "      <td>0.0</td>\n",
              "      <td>0.0</td>\n",
              "      <td>49.0</td>\n",
              "      <td>4.70</td>\n",
              "      <td>1</td>\n",
              "    </tr>\n",
              "    <tr>\n",
              "      <th>1</th>\n",
              "      <td>2</td>\n",
              "      <td>27</td>\n",
              "      <td>3</td>\n",
              "      <td>San Jose International</td>\n",
              "      <td>BOS</td>\n",
              "      <td>2200-2259</td>\n",
              "      <td>2689</td>\n",
              "      <td>2</td>\n",
              "      <td>3</td>\n",
              "      <td>162</td>\n",
              "      <td>...</td>\n",
              "      <td>0.000160</td>\n",
              "      <td>0.000127</td>\n",
              "      <td>17</td>\n",
              "      <td>John F. Kennedy International</td>\n",
              "      <td>0.21</td>\n",
              "      <td>0.0</td>\n",
              "      <td>0.0</td>\n",
              "      <td>64.0</td>\n",
              "      <td>12.75</td>\n",
              "      <td>0</td>\n",
              "    </tr>\n",
              "    <tr>\n",
              "      <th>2</th>\n",
              "      <td>8</td>\n",
              "      <td>14</td>\n",
              "      <td>3</td>\n",
              "      <td>Los Angeles International</td>\n",
              "      <td>ATL</td>\n",
              "      <td>0600-0659</td>\n",
              "      <td>1947</td>\n",
              "      <td>1</td>\n",
              "      <td>30</td>\n",
              "      <td>199</td>\n",
              "      <td>...</td>\n",
              "      <td>0.000144</td>\n",
              "      <td>0.000149</td>\n",
              "      <td>23</td>\n",
              "      <td>NONE</td>\n",
              "      <td>0.00</td>\n",
              "      <td>0.0</td>\n",
              "      <td>0.0</td>\n",
              "      <td>74.0</td>\n",
              "      <td>8.50</td>\n",
              "      <td>0</td>\n",
              "    </tr>\n",
              "    <tr>\n",
              "      <th>3</th>\n",
              "      <td>3</td>\n",
              "      <td>16</td>\n",
              "      <td>6</td>\n",
              "      <td>Newark Liberty International</td>\n",
              "      <td>DTW</td>\n",
              "      <td>1400-1459</td>\n",
              "      <td>488</td>\n",
              "      <td>3</td>\n",
              "      <td>23</td>\n",
              "      <td>76</td>\n",
              "      <td>...</td>\n",
              "      <td>0.000001</td>\n",
              "      <td>0.000124</td>\n",
              "      <td>4</td>\n",
              "      <td>Dallas Fort Worth Regional</td>\n",
              "      <td>0.00</td>\n",
              "      <td>0.0</td>\n",
              "      <td>0.0</td>\n",
              "      <td>56.0</td>\n",
              "      <td>17.67</td>\n",
              "      <td>0</td>\n",
              "    </tr>\n",
              "    <tr>\n",
              "      <th>4</th>\n",
              "      <td>6</td>\n",
              "      <td>20</td>\n",
              "      <td>4</td>\n",
              "      <td>Douglas Municipal</td>\n",
              "      <td>JFK</td>\n",
              "      <td>1500-1559</td>\n",
              "      <td>541</td>\n",
              "      <td>4</td>\n",
              "      <td>24</td>\n",
              "      <td>128</td>\n",
              "      <td>...</td>\n",
              "      <td>0.000098</td>\n",
              "      <td>0.000177</td>\n",
              "      <td>21</td>\n",
              "      <td>Myrtle Beach International</td>\n",
              "      <td>0.19</td>\n",
              "      <td>0.0</td>\n",
              "      <td>0.0</td>\n",
              "      <td>89.0</td>\n",
              "      <td>9.17</td>\n",
              "      <td>1</td>\n",
              "    </tr>\n",
              "  </tbody>\n",
              "</table>\n",
              "<p>5 rows × 27 columns</p>\n",
              "</div>"
            ],
            "text/plain": [
              "   MONTH  DAY_OF_MONTH  DAY_OF_WEEK             DEPARTING_AIRPORT DEST  \\\n",
              "0      1            17            4  Raleigh-Durham International  JFK   \n",
              "1      2            27            3        San Jose International  BOS   \n",
              "2      8            14            3     Los Angeles International  ATL   \n",
              "3      3            16            6  Newark Liberty International  DTW   \n",
              "4      6            20            4             Douglas Municipal  JFK   \n",
              "\n",
              "  DEP_TIME_BLK  DISTANCE  SEGMENT_NUMBER  CONCURRENT_FLIGHTS  NUMBER_OF_SEATS  \\\n",
              "0    1800-1859       427               6                  13               76   \n",
              "1    2200-2259      2689               2                   3              162   \n",
              "2    0600-0659      1947               1                  30              199   \n",
              "3    1400-1459       488               3                  23               76   \n",
              "4    1500-1559       541               4                  24              128   \n",
              "\n",
              "   ... FLT_ATTENDANTS_PER_PASS  GROUND_SERV_PER_PASS  PLANE_AGE  \\\n",
              "0  ...                0.000000              0.000094          5   \n",
              "1  ...                0.000160              0.000127         17   \n",
              "2  ...                0.000144              0.000149         23   \n",
              "3  ...                0.000001              0.000124          4   \n",
              "4  ...                0.000098              0.000177         21   \n",
              "\n",
              "                    PREVIOUS_AIRPORT  PRCP  SNOW  SNWD  TMAX   AWND  \\\n",
              "0  Ronald Reagan Washington National  0.01   0.0   0.0  49.0   4.70   \n",
              "1      John F. Kennedy International  0.21   0.0   0.0  64.0  12.75   \n",
              "2                               NONE  0.00   0.0   0.0  74.0   8.50   \n",
              "3         Dallas Fort Worth Regional  0.00   0.0   0.0  56.0  17.67   \n",
              "4         Myrtle Beach International  0.19   0.0   0.0  89.0   9.17   \n",
              "\n",
              "   IS_DELAYED  \n",
              "0           1  \n",
              "1           0  \n",
              "2           0  \n",
              "3           0  \n",
              "4           1  \n",
              "\n",
              "[5 rows x 27 columns]"
            ]
          },
          "execution_count": 321,
          "metadata": {},
          "output_type": "execute_result"
        }
      ],
      "source": [
        "train_data.head()"
      ]
    },
    {
      "cell_type": "markdown",
      "metadata": {
        "id": "sx4G1rDXqS1M"
      },
      "source": [
        "Here's how a label encoder works:\n",
        "\n",
        "`fit`\n",
        "If we have a list of discrete variables, like [\"a\", \"b\", \"b\", \"c\"], the label encoder will locate each unique item in the list (\"a\", \"b\", \"c\") and assign an integer to that object, for instance,\n",
        "\n",
        "\"a\" -> 0\n",
        "\n",
        "\"b\" -> 1\n",
        "\n",
        "\"c\" -> 2\n",
        "\n",
        "`transform`\n",
        "Now, when we encounter a list like [\"b\", \"b\", \"c\", \"a\"], the LabelENcoder will perform the translation between string and number, and output [1, 1, 2, 0]. Essentially, replacing the string with the corresponding number.\n",
        "\n",
        "Label encoders, however, do not handle unseen values. So, if we try to translate \"d\", the LabelEncoder will through a bad error. If out training set contains only \"a\", \"b\", and \"c\", and our testing set contains a new string \"d\", we'll run into a problem. To account for this, we'll add an \"UNSEEN\" to the unique items in the list, so when we encounter an unknown value in the testing set, we'll replace it with \"UNSEEN\" and continue encoding."
      ]
    },
    {
      "cell_type": "code",
      "execution_count": 322,
      "metadata": {
        "id": "VGPxJtFTqS1N"
      },
      "outputs": [],
      "source": [
        "# For each of the string, categorical variables, we must encode these values as numbers.\n",
        "from sklearn.preprocessing import LabelEncoder\n",
        "\n",
        "dest_le = LabelEncoder().fit(train_data[\"DEST\"].tolist() + [\"UNSEEN\"])\n",
        "train_data[\"DEST\"] = dest_le.transform(train_data[\"DEST\"])\n",
        "\n",
        "carrier_name_le = LabelEncoder().fit(train_data[\"CARRIER_NAME\"].tolist()+ [\"UNSEEN\"])\n",
        "train_data[\"CARRIER_NAME\"] = carrier_name_le.transform(train_data[\"CARRIER_NAME\"])\n",
        "\n",
        "previous_airport_le = LabelEncoder().fit(train_data[\"PREVIOUS_AIRPORT\"].tolist()+ [\"UNSEEN\"])\n",
        "train_data[\"PREVIOUS_AIRPORT\"] = previous_airport_le.transform(train_data[\"PREVIOUS_AIRPORT\"])\n",
        "\n",
        "dep_time_blk_le = LabelEncoder().fit(train_data[\"DEP_TIME_BLK\"].tolist()+ [\"UNSEEN\"])\n",
        "train_data[\"DEP_TIME_BLK\"] = dep_time_blk_le.transform(train_data[\"DEP_TIME_BLK\"])\n",
        "\n",
        "departing_airport_le = LabelEncoder().fit(train_data[\"DEPARTING_AIRPORT\"].tolist()+ [\"UNSEEN\"])\n",
        "train_data[\"DEPARTING_AIRPORT\"] = departing_airport_le.transform(train_data[\"DEPARTING_AIRPORT\"])\n"
      ]
    },
    {
      "cell_type": "markdown",
      "metadata": {
        "id": "WFFXyAXfqS1O"
      },
      "source": [
        "2. For this starter code, I'll select 5 random variables to use as my features. You should do your own selection, and think about what features would be useful!"
      ]
    },
    {
      "cell_type": "code",
      "execution_count": 323,
      "metadata": {
        "id": "aF5vutAbqS1P"
      },
      "outputs": [],
      "source": [
        "train_data = train_data[[\"SEGMENT_NUMBER\", \"NUMBER_OF_SEATS\", \"CARRIER_NAME\", \"AIRLINE_FLIGHTS_MONTH\", \"CARGO_HANDLING\", \"AVG_MONTHLY_PASS_AIRLINE\", \"PRCP\", \"IS_DELAYED\"]]\n"
      ]
    },
    {
      "cell_type": "code",
      "execution_count": 324,
      "metadata": {
        "colab": {
          "base_uri": "https://localhost:8080/",
          "height": 226
        },
        "id": "PzKdMbTvqS1P",
        "outputId": "b8e55ec6-44e6-423d-b8bc-e3d5e2d64149"
      },
      "outputs": [
        {
          "data": {
            "text/html": [
              "<div>\n",
              "<style scoped>\n",
              "    .dataframe tbody tr th:only-of-type {\n",
              "        vertical-align: middle;\n",
              "    }\n",
              "\n",
              "    .dataframe tbody tr th {\n",
              "        vertical-align: top;\n",
              "    }\n",
              "\n",
              "    .dataframe thead th {\n",
              "        text-align: right;\n",
              "    }\n",
              "</style>\n",
              "<table border=\"1\" class=\"dataframe\">\n",
              "  <thead>\n",
              "    <tr style=\"text-align: right;\">\n",
              "      <th></th>\n",
              "      <th>SEGMENT_NUMBER</th>\n",
              "      <th>NUMBER_OF_SEATS</th>\n",
              "      <th>CARRIER_NAME</th>\n",
              "      <th>AIRLINE_FLIGHTS_MONTH</th>\n",
              "      <th>CARGO_HANDLING</th>\n",
              "      <th>AVG_MONTHLY_PASS_AIRLINE</th>\n",
              "      <th>PRCP</th>\n",
              "      <th>IS_DELAYED</th>\n",
              "    </tr>\n",
              "  </thead>\n",
              "  <tbody>\n",
              "    <tr>\n",
              "      <th>0</th>\n",
              "      <td>6</td>\n",
              "      <td>76</td>\n",
              "      <td>6</td>\n",
              "      <td>19709</td>\n",
              "      <td>0</td>\n",
              "      <td>1212846</td>\n",
              "      <td>0.01</td>\n",
              "      <td>1</td>\n",
              "    </tr>\n",
              "    <tr>\n",
              "      <th>1</th>\n",
              "      <td>2</td>\n",
              "      <td>162</td>\n",
              "      <td>9</td>\n",
              "      <td>22053</td>\n",
              "      <td>62</td>\n",
              "      <td>3190369</td>\n",
              "      <td>0.21</td>\n",
              "      <td>0</td>\n",
              "    </tr>\n",
              "    <tr>\n",
              "      <th>2</th>\n",
              "      <td>1</td>\n",
              "      <td>199</td>\n",
              "      <td>5</td>\n",
              "      <td>87457</td>\n",
              "      <td>1462</td>\n",
              "      <td>12460183</td>\n",
              "      <td>0.00</td>\n",
              "      <td>0</td>\n",
              "    </tr>\n",
              "    <tr>\n",
              "      <th>3</th>\n",
              "      <td>3</td>\n",
              "      <td>76</td>\n",
              "      <td>11</td>\n",
              "      <td>26929</td>\n",
              "      <td>0</td>\n",
              "      <td>1529740</td>\n",
              "      <td>0.00</td>\n",
              "      <td>0</td>\n",
              "    </tr>\n",
              "    <tr>\n",
              "      <th>4</th>\n",
              "      <td>4</td>\n",
              "      <td>128</td>\n",
              "      <td>1</td>\n",
              "      <td>76099</td>\n",
              "      <td>16963</td>\n",
              "      <td>11744595</td>\n",
              "      <td>0.19</td>\n",
              "      <td>1</td>\n",
              "    </tr>\n",
              "  </tbody>\n",
              "</table>\n",
              "</div>"
            ],
            "text/plain": [
              "   SEGMENT_NUMBER  NUMBER_OF_SEATS  CARRIER_NAME  AIRLINE_FLIGHTS_MONTH  \\\n",
              "0               6               76             6                  19709   \n",
              "1               2              162             9                  22053   \n",
              "2               1              199             5                  87457   \n",
              "3               3               76            11                  26929   \n",
              "4               4              128             1                  76099   \n",
              "\n",
              "   CARGO_HANDLING  AVG_MONTHLY_PASS_AIRLINE  PRCP  IS_DELAYED  \n",
              "0               0                   1212846  0.01           1  \n",
              "1              62                   3190369  0.21           0  \n",
              "2            1462                  12460183  0.00           0  \n",
              "3               0                   1529740  0.00           0  \n",
              "4           16963                  11744595  0.19           1  "
            ]
          },
          "execution_count": 324,
          "metadata": {},
          "output_type": "execute_result"
        }
      ],
      "source": [
        "train_data.head()"
      ]
    },
    {
      "cell_type": "markdown",
      "metadata": {
        "id": "gfnMW6OwqS1Q"
      },
      "source": [
        "Now, we convert this dataframe into a numpy array to begin the model training process"
      ]
    },
    {
      "cell_type": "code",
      "execution_count": 325,
      "metadata": {
        "id": "4mjqfXJ8qS1Q"
      },
      "outputs": [],
      "source": [
        "train_data_np = train_data.to_numpy()"
      ]
    },
    {
      "cell_type": "markdown",
      "metadata": {
        "id": "tGys3-CqqS1Q"
      },
      "source": [
        "Then, we separate the features from the target variable"
      ]
    },
    {
      "cell_type": "code",
      "execution_count": 326,
      "metadata": {
        "id": "x1T0BmLMqS1R"
      },
      "outputs": [],
      "source": [
        "X = train_data_np[:, :-1] # All rows, and every column except for the last one, which is the target variable\n",
        "y = train_data_np[:, -1]"
      ]
    },
    {
      "cell_type": "markdown",
      "metadata": {
        "id": "chDYdzflqS1R"
      },
      "source": [
        "Now, we split the data into a training set and testing set so we can both train the model, and evaluate the moedl after training it"
      ]
    },
    {
      "cell_type": "code",
      "execution_count": 327,
      "metadata": {
        "id": "9KGEdcnnqS1R"
      },
      "outputs": [],
      "source": [
        "from sklearn.model_selection import train_test_split\n",
        "# IF YOUR MODEL IS TAKING TOO LONG TO RUN, INCREASE THE TEST SIZE to 0.7\n",
        "X_train, X_test, y_train, y_test = train_test_split(X, y, test_size = 0.2)"
      ]
    },
    {
      "cell_type": "markdown",
      "metadata": {
        "id": "MrEYPUhyqS1S"
      },
      "source": [
        "Now, we define our model. This is truly where the magic happens, and it's truly just plug and play. Feel free to swap out my model with any one of these, and explore how the results change!"
      ]
    },
    {
      "cell_type": "code",
      "execution_count": 328,
      "metadata": {
        "id": "yj8nPAvXqS1T"
      },
      "outputs": [],
      "source": [
        "from sklearn.discriminant_analysis import QuadraticDiscriminantAnalysis\n",
        "from sklearn.ensemble import AdaBoostClassifier, RandomForestClassifier\n",
        "from sklearn.gaussian_process import GaussianProcessClassifier\n",
        "from sklearn.gaussian_process.kernels import RBF\n",
        "from sklearn.inspection import DecisionBoundaryDisplay\n",
        "from sklearn.naive_bayes import GaussianNB\n",
        "from sklearn.neighbors import KNeighborsClassifier\n",
        "from sklearn.neural_network import MLPClassifier\n",
        "from sklearn.preprocessing import StandardScaler\n",
        "from sklearn.svm import SVC\n",
        "from sklearn.tree import DecisionTreeClassifier"
      ]
    },
    {
      "cell_type": "markdown",
      "metadata": {
        "id": "wA1-ILLVqS1T"
      },
      "source": [
        "Here, I'm just defining a random model"
      ]
    },
    {
      "cell_type": "code",
      "execution_count": 329,
      "metadata": {
        "id": "X8rDBPtfqS1T"
      },
      "outputs": [],
      "source": [
        "# model = GaussianNB()\n",
        "model = KNeighborsClassifier()"
      ]
    },
    {
      "cell_type": "code",
      "execution_count": 330,
      "metadata": {
        "colab": {
          "base_uri": "https://localhost:8080/",
          "height": 75
        },
        "id": "xJjCHZuGqS1T",
        "outputId": "e84517c2-0f8c-43b1-f014-3deac66e6913"
      },
      "outputs": [
        {
          "data": {
            "text/html": [
              "<style>#sk-container-id-9 {color: black;}#sk-container-id-9 pre{padding: 0;}#sk-container-id-9 div.sk-toggleable {background-color: white;}#sk-container-id-9 label.sk-toggleable__label {cursor: pointer;display: block;width: 100%;margin-bottom: 0;padding: 0.3em;box-sizing: border-box;text-align: center;}#sk-container-id-9 label.sk-toggleable__label-arrow:before {content: \"▸\";float: left;margin-right: 0.25em;color: #696969;}#sk-container-id-9 label.sk-toggleable__label-arrow:hover:before {color: black;}#sk-container-id-9 div.sk-estimator:hover label.sk-toggleable__label-arrow:before {color: black;}#sk-container-id-9 div.sk-toggleable__content {max-height: 0;max-width: 0;overflow: hidden;text-align: left;background-color: #f0f8ff;}#sk-container-id-9 div.sk-toggleable__content pre {margin: 0.2em;color: black;border-radius: 0.25em;background-color: #f0f8ff;}#sk-container-id-9 input.sk-toggleable__control:checked~div.sk-toggleable__content {max-height: 200px;max-width: 100%;overflow: auto;}#sk-container-id-9 input.sk-toggleable__control:checked~label.sk-toggleable__label-arrow:before {content: \"▾\";}#sk-container-id-9 div.sk-estimator input.sk-toggleable__control:checked~label.sk-toggleable__label {background-color: #d4ebff;}#sk-container-id-9 div.sk-label input.sk-toggleable__control:checked~label.sk-toggleable__label {background-color: #d4ebff;}#sk-container-id-9 input.sk-hidden--visually {border: 0;clip: rect(1px 1px 1px 1px);clip: rect(1px, 1px, 1px, 1px);height: 1px;margin: -1px;overflow: hidden;padding: 0;position: absolute;width: 1px;}#sk-container-id-9 div.sk-estimator {font-family: monospace;background-color: #f0f8ff;border: 1px dotted black;border-radius: 0.25em;box-sizing: border-box;margin-bottom: 0.5em;}#sk-container-id-9 div.sk-estimator:hover {background-color: #d4ebff;}#sk-container-id-9 div.sk-parallel-item::after {content: \"\";width: 100%;border-bottom: 1px solid gray;flex-grow: 1;}#sk-container-id-9 div.sk-label:hover label.sk-toggleable__label {background-color: #d4ebff;}#sk-container-id-9 div.sk-serial::before {content: \"\";position: absolute;border-left: 1px solid gray;box-sizing: border-box;top: 0;bottom: 0;left: 50%;z-index: 0;}#sk-container-id-9 div.sk-serial {display: flex;flex-direction: column;align-items: center;background-color: white;padding-right: 0.2em;padding-left: 0.2em;position: relative;}#sk-container-id-9 div.sk-item {position: relative;z-index: 1;}#sk-container-id-9 div.sk-parallel {display: flex;align-items: stretch;justify-content: center;background-color: white;position: relative;}#sk-container-id-9 div.sk-item::before, #sk-container-id-9 div.sk-parallel-item::before {content: \"\";position: absolute;border-left: 1px solid gray;box-sizing: border-box;top: 0;bottom: 0;left: 50%;z-index: -1;}#sk-container-id-9 div.sk-parallel-item {display: flex;flex-direction: column;z-index: 1;position: relative;background-color: white;}#sk-container-id-9 div.sk-parallel-item:first-child::after {align-self: flex-end;width: 50%;}#sk-container-id-9 div.sk-parallel-item:last-child::after {align-self: flex-start;width: 50%;}#sk-container-id-9 div.sk-parallel-item:only-child::after {width: 0;}#sk-container-id-9 div.sk-dashed-wrapped {border: 1px dashed gray;margin: 0 0.4em 0.5em 0.4em;box-sizing: border-box;padding-bottom: 0.4em;background-color: white;}#sk-container-id-9 div.sk-label label {font-family: monospace;font-weight: bold;display: inline-block;line-height: 1.2em;}#sk-container-id-9 div.sk-label-container {text-align: center;}#sk-container-id-9 div.sk-container {/* jupyter's `normalize.less` sets `[hidden] { display: none; }` but bootstrap.min.css set `[hidden] { display: none !important; }` so we also need the `!important` here to be able to override the default hidden behavior on the sphinx rendered scikit-learn.org. See: https://github.com/scikit-learn/scikit-learn/issues/21755 */display: inline-block !important;position: relative;}#sk-container-id-9 div.sk-text-repr-fallback {display: none;}</style><div id=\"sk-container-id-9\" class=\"sk-top-container\"><div class=\"sk-text-repr-fallback\"><pre>KNeighborsClassifier()</pre><b>In a Jupyter environment, please rerun this cell to show the HTML representation or trust the notebook. <br />On GitHub, the HTML representation is unable to render, please try loading this page with nbviewer.org.</b></div><div class=\"sk-container\" hidden><div class=\"sk-item\"><div class=\"sk-estimator sk-toggleable\"><input class=\"sk-toggleable__control sk-hidden--visually\" id=\"sk-estimator-id-9\" type=\"checkbox\" checked><label for=\"sk-estimator-id-9\" class=\"sk-toggleable__label sk-toggleable__label-arrow\">KNeighborsClassifier</label><div class=\"sk-toggleable__content\"><pre>KNeighborsClassifier()</pre></div></div></div></div></div>"
            ],
            "text/plain": [
              "KNeighborsClassifier()"
            ]
          },
          "execution_count": 330,
          "metadata": {},
          "output_type": "execute_result"
        }
      ],
      "source": [
        "model.fit(X_train, y_train)"
      ]
    },
    {
      "cell_type": "markdown",
      "metadata": {
        "id": "jNE4MZjGqS1U"
      },
      "source": [
        "Great! Now that our model is done training, let's see how we did. To evaluate our model we must define what metric we evaluate our model on. We'll be using AUROC"
      ]
    },
    {
      "cell_type": "code",
      "execution_count": 331,
      "metadata": {
        "id": "XuDc0bZlqS1U"
      },
      "outputs": [],
      "source": [
        "from sklearn.metrics import roc_auc_score"
      ]
    },
    {
      "cell_type": "code",
      "execution_count": 332,
      "metadata": {
        "id": "OEaFTx-PqS1U"
      },
      "outputs": [],
      "source": [
        "# Use our testing subset and make predictions\n",
        "y_test_predictions_probabilities = model.predict_proba(X_test)"
      ]
    },
    {
      "cell_type": "markdown",
      "metadata": {
        "id": "HUu0KbIfqS1V"
      },
      "source": [
        "`predict_proba` is a function that returns the probability/confidence of the model for each class."
      ]
    },
    {
      "cell_type": "code",
      "execution_count": 333,
      "metadata": {
        "colab": {
          "base_uri": "https://localhost:8080/"
        },
        "id": "PUq07bkyqS1V",
        "outputId": "584b1dcc-d55c-44e1-98f9-1c600aa210b6"
      },
      "outputs": [
        {
          "data": {
            "text/plain": [
              "array([[0.4, 0.6],\n",
              "       [0.6, 0.4],\n",
              "       [1. , 0. ],\n",
              "       ...,\n",
              "       [0.8, 0.2],\n",
              "       [0.6, 0.4],\n",
              "       [0.4, 0.6]])"
            ]
          },
          "execution_count": 333,
          "metadata": {},
          "output_type": "execute_result"
        }
      ],
      "source": [
        "y_test_predictions_probabilities"
      ]
    },
    {
      "cell_type": "markdown",
      "metadata": {
        "id": "f9va87koqS1V"
      },
      "source": [
        "If we exaime the first row [0.57795736, 0.42204264], we interpret this as the model is 57% confident that the label should be 0, and 42% confident that the label should be 1. The AUROC Score is concerned only with the probability of the 1 label, so we must grab the second column"
      ]
    },
    {
      "cell_type": "code",
      "execution_count": 334,
      "metadata": {
        "id": "1x4MDONaqS1V"
      },
      "outputs": [],
      "source": [
        "y_test_predictions = y_test_predictions_probabilities[:, 1] # All rows, second column"
      ]
    },
    {
      "cell_type": "code",
      "execution_count": 335,
      "metadata": {
        "colab": {
          "base_uri": "https://localhost:8080/"
        },
        "id": "e1FFPIDGqS1W",
        "outputId": "5132c2de-fcbb-4eed-d30d-9e0ee40336f1"
      },
      "outputs": [
        {
          "data": {
            "text/plain": [
              "0.5921126258109642"
            ]
          },
          "execution_count": 335,
          "metadata": {},
          "output_type": "execute_result"
        }
      ],
      "source": [
        "roc_auc_score(y_test, y_test_predictions)"
      ]
    },
    {
      "cell_type": "markdown",
      "metadata": {
        "id": "c0sjbb6WqS1W"
      },
      "source": [
        "This is decent!"
      ]
    },
    {
      "cell_type": "markdown",
      "metadata": {
        "id": "nkjytNhcqS1W"
      },
      "source": [
        "Now let's load our test data and make predictions on that, then create our submission file"
      ]
    },
    {
      "cell_type": "code",
      "execution_count": 336,
      "metadata": {
        "id": "YR4E0CE6qS1X"
      },
      "outputs": [],
      "source": [
        "test_data = pd.read_csv(\"datathon_test.csv\")"
      ]
    },
    {
      "cell_type": "code",
      "execution_count": 337,
      "metadata": {
        "colab": {
          "base_uri": "https://localhost:8080/",
          "height": 669
        },
        "id": "Wbke2g0NqS1X",
        "outputId": "40b50e02-d1bb-4ef8-8b1e-8ed6dac83e36"
      },
      "outputs": [
        {
          "data": {
            "text/html": [
              "<div>\n",
              "<style scoped>\n",
              "    .dataframe tbody tr th:only-of-type {\n",
              "        vertical-align: middle;\n",
              "    }\n",
              "\n",
              "    .dataframe tbody tr th {\n",
              "        vertical-align: top;\n",
              "    }\n",
              "\n",
              "    .dataframe thead th {\n",
              "        text-align: right;\n",
              "    }\n",
              "</style>\n",
              "<table border=\"1\" class=\"dataframe\">\n",
              "  <thead>\n",
              "    <tr style=\"text-align: right;\">\n",
              "      <th></th>\n",
              "      <th>Id</th>\n",
              "      <th>MONTH</th>\n",
              "      <th>DAY_OF_MONTH</th>\n",
              "      <th>DAY_OF_WEEK</th>\n",
              "      <th>DEPARTING_AIRPORT</th>\n",
              "      <th>ORIGIN_CITY_NAME</th>\n",
              "      <th>DEST</th>\n",
              "      <th>DEST_CITY_NAME</th>\n",
              "      <th>DEP_TIME_BLK</th>\n",
              "      <th>DISTANCE</th>\n",
              "      <th>...</th>\n",
              "      <th>CARGO_HANDLING</th>\n",
              "      <th>FLT_ATTENDANTS_PER_PASS</th>\n",
              "      <th>GROUND_SERV_PER_PASS</th>\n",
              "      <th>PLANE_AGE</th>\n",
              "      <th>PREVIOUS_AIRPORT</th>\n",
              "      <th>PRCP</th>\n",
              "      <th>SNOW</th>\n",
              "      <th>SNWD</th>\n",
              "      <th>TMAX</th>\n",
              "      <th>AWND</th>\n",
              "    </tr>\n",
              "  </thead>\n",
              "  <tbody>\n",
              "    <tr>\n",
              "      <th>0</th>\n",
              "      <td>0</td>\n",
              "      <td>7</td>\n",
              "      <td>1</td>\n",
              "      <td>1</td>\n",
              "      <td>Minneapolis-St Paul International</td>\n",
              "      <td>Minneapolis, MN</td>\n",
              "      <td>PHL</td>\n",
              "      <td>Philadelphia, PA</td>\n",
              "      <td>2000-2059</td>\n",
              "      <td>980</td>\n",
              "      <td>...</td>\n",
              "      <td>1462</td>\n",
              "      <td>0.000144</td>\n",
              "      <td>0.000149</td>\n",
              "      <td>18</td>\n",
              "      <td>Bradley International</td>\n",
              "      <td>0.00</td>\n",
              "      <td>0.0</td>\n",
              "      <td>0.0</td>\n",
              "      <td>93.0</td>\n",
              "      <td>4.70</td>\n",
              "    </tr>\n",
              "    <tr>\n",
              "      <th>1</th>\n",
              "      <td>1</td>\n",
              "      <td>4</td>\n",
              "      <td>12</td>\n",
              "      <td>5</td>\n",
              "      <td>Los Angeles International</td>\n",
              "      <td>Los Angeles, CA</td>\n",
              "      <td>BNA</td>\n",
              "      <td>Nashville, TN</td>\n",
              "      <td>1000-1059</td>\n",
              "      <td>1797</td>\n",
              "      <td>...</td>\n",
              "      <td>1462</td>\n",
              "      <td>0.000144</td>\n",
              "      <td>0.000149</td>\n",
              "      <td>18</td>\n",
              "      <td>Cincinnati/Northern Kentucky International</td>\n",
              "      <td>0.00</td>\n",
              "      <td>0.0</td>\n",
              "      <td>0.0</td>\n",
              "      <td>73.0</td>\n",
              "      <td>12.30</td>\n",
              "    </tr>\n",
              "    <tr>\n",
              "      <th>2</th>\n",
              "      <td>2</td>\n",
              "      <td>10</td>\n",
              "      <td>11</td>\n",
              "      <td>5</td>\n",
              "      <td>Ronald Reagan Washington National</td>\n",
              "      <td>Washington, DC</td>\n",
              "      <td>SYR</td>\n",
              "      <td>Syracuse, NY</td>\n",
              "      <td>0700-0759</td>\n",
              "      <td>298</td>\n",
              "      <td>...</td>\n",
              "      <td>0</td>\n",
              "      <td>0.000000</td>\n",
              "      <td>0.000090</td>\n",
              "      <td>16</td>\n",
              "      <td>Norfolk International</td>\n",
              "      <td>0.00</td>\n",
              "      <td>0.0</td>\n",
              "      <td>0.0</td>\n",
              "      <td>75.0</td>\n",
              "      <td>5.82</td>\n",
              "    </tr>\n",
              "    <tr>\n",
              "      <th>3</th>\n",
              "      <td>3</td>\n",
              "      <td>9</td>\n",
              "      <td>26</td>\n",
              "      <td>4</td>\n",
              "      <td>LaGuardia</td>\n",
              "      <td>New York, NY</td>\n",
              "      <td>ORD</td>\n",
              "      <td>Chicago, IL</td>\n",
              "      <td>2000-2059</td>\n",
              "      <td>733</td>\n",
              "      <td>...</td>\n",
              "      <td>518</td>\n",
              "      <td>0.000254</td>\n",
              "      <td>0.000229</td>\n",
              "      <td>12</td>\n",
              "      <td>Chicago O'Hare International</td>\n",
              "      <td>0.00</td>\n",
              "      <td>0.0</td>\n",
              "      <td>0.0</td>\n",
              "      <td>82.0</td>\n",
              "      <td>9.40</td>\n",
              "    </tr>\n",
              "    <tr>\n",
              "      <th>4</th>\n",
              "      <td>4</td>\n",
              "      <td>8</td>\n",
              "      <td>13</td>\n",
              "      <td>2</td>\n",
              "      <td>Detroit Metro Wayne County</td>\n",
              "      <td>Detroit, MI</td>\n",
              "      <td>ERI</td>\n",
              "      <td>Erie, PA</td>\n",
              "      <td>2000-2059</td>\n",
              "      <td>164</td>\n",
              "      <td>...</td>\n",
              "      <td>10</td>\n",
              "      <td>0.000034</td>\n",
              "      <td>0.000099</td>\n",
              "      <td>16</td>\n",
              "      <td>Kalamazoo/Battle Creek International</td>\n",
              "      <td>0.00</td>\n",
              "      <td>0.0</td>\n",
              "      <td>0.0</td>\n",
              "      <td>88.0</td>\n",
              "      <td>7.61</td>\n",
              "    </tr>\n",
              "    <tr>\n",
              "      <th>...</th>\n",
              "      <td>...</td>\n",
              "      <td>...</td>\n",
              "      <td>...</td>\n",
              "      <td>...</td>\n",
              "      <td>...</td>\n",
              "      <td>...</td>\n",
              "      <td>...</td>\n",
              "      <td>...</td>\n",
              "      <td>...</td>\n",
              "      <td>...</td>\n",
              "      <td>...</td>\n",
              "      <td>...</td>\n",
              "      <td>...</td>\n",
              "      <td>...</td>\n",
              "      <td>...</td>\n",
              "      <td>...</td>\n",
              "      <td>...</td>\n",
              "      <td>...</td>\n",
              "      <td>...</td>\n",
              "      <td>...</td>\n",
              "      <td>...</td>\n",
              "    </tr>\n",
              "    <tr>\n",
              "      <th>298806</th>\n",
              "      <td>298806</td>\n",
              "      <td>6</td>\n",
              "      <td>16</td>\n",
              "      <td>7</td>\n",
              "      <td>Chicago O'Hare International</td>\n",
              "      <td>Chicago, IL</td>\n",
              "      <td>AVL</td>\n",
              "      <td>Asheville, NC</td>\n",
              "      <td>1800-1859</td>\n",
              "      <td>536</td>\n",
              "      <td>...</td>\n",
              "      <td>10</td>\n",
              "      <td>0.000034</td>\n",
              "      <td>0.000099</td>\n",
              "      <td>17</td>\n",
              "      <td>Duluth International</td>\n",
              "      <td>0.07</td>\n",
              "      <td>0.0</td>\n",
              "      <td>0.0</td>\n",
              "      <td>60.0</td>\n",
              "      <td>9.62</td>\n",
              "    </tr>\n",
              "    <tr>\n",
              "      <th>298807</th>\n",
              "      <td>298807</td>\n",
              "      <td>3</td>\n",
              "      <td>20</td>\n",
              "      <td>3</td>\n",
              "      <td>Tampa International</td>\n",
              "      <td>Tampa, FL</td>\n",
              "      <td>EWR</td>\n",
              "      <td>Newark, NJ</td>\n",
              "      <td>0700-0759</td>\n",
              "      <td>997</td>\n",
              "      <td>...</td>\n",
              "      <td>518</td>\n",
              "      <td>0.000254</td>\n",
              "      <td>0.000229</td>\n",
              "      <td>4</td>\n",
              "      <td>NONE</td>\n",
              "      <td>0.00</td>\n",
              "      <td>0.0</td>\n",
              "      <td>0.0</td>\n",
              "      <td>76.0</td>\n",
              "      <td>8.50</td>\n",
              "    </tr>\n",
              "    <tr>\n",
              "      <th>298808</th>\n",
              "      <td>298808</td>\n",
              "      <td>10</td>\n",
              "      <td>6</td>\n",
              "      <td>7</td>\n",
              "      <td>John F. Kennedy International</td>\n",
              "      <td>New York, NY</td>\n",
              "      <td>MCO</td>\n",
              "      <td>Orlando, FL</td>\n",
              "      <td>2100-2159</td>\n",
              "      <td>944</td>\n",
              "      <td>...</td>\n",
              "      <td>62</td>\n",
              "      <td>0.000160</td>\n",
              "      <td>0.000127</td>\n",
              "      <td>13</td>\n",
              "      <td>Orlando International</td>\n",
              "      <td>0.01</td>\n",
              "      <td>0.0</td>\n",
              "      <td>0.0</td>\n",
              "      <td>71.0</td>\n",
              "      <td>10.96</td>\n",
              "    </tr>\n",
              "    <tr>\n",
              "      <th>298809</th>\n",
              "      <td>298809</td>\n",
              "      <td>7</td>\n",
              "      <td>17</td>\n",
              "      <td>3</td>\n",
              "      <td>General Mitchell Field</td>\n",
              "      <td>Milwaukee, WI</td>\n",
              "      <td>LGA</td>\n",
              "      <td>New York, NY</td>\n",
              "      <td>0600-0659</td>\n",
              "      <td>738</td>\n",
              "      <td>...</td>\n",
              "      <td>10955</td>\n",
              "      <td>0.000062</td>\n",
              "      <td>0.000099</td>\n",
              "      <td>19</td>\n",
              "      <td>NONE</td>\n",
              "      <td>0.00</td>\n",
              "      <td>0.0</td>\n",
              "      <td>0.0</td>\n",
              "      <td>84.0</td>\n",
              "      <td>6.71</td>\n",
              "    </tr>\n",
              "    <tr>\n",
              "      <th>298810</th>\n",
              "      <td>298810</td>\n",
              "      <td>3</td>\n",
              "      <td>4</td>\n",
              "      <td>1</td>\n",
              "      <td>Phoenix Sky Harbor International</td>\n",
              "      <td>Phoenix, AZ</td>\n",
              "      <td>SBA</td>\n",
              "      <td>Santa Barbara, CA</td>\n",
              "      <td>2100-2159</td>\n",
              "      <td>455</td>\n",
              "      <td>...</td>\n",
              "      <td>0</td>\n",
              "      <td>0.000000</td>\n",
              "      <td>0.000091</td>\n",
              "      <td>14</td>\n",
              "      <td>San Luis Obispo County Regional</td>\n",
              "      <td>0.00</td>\n",
              "      <td>0.0</td>\n",
              "      <td>0.0</td>\n",
              "      <td>74.0</td>\n",
              "      <td>4.92</td>\n",
              "    </tr>\n",
              "  </tbody>\n",
              "</table>\n",
              "<p>298811 rows × 30 columns</p>\n",
              "</div>"
            ],
            "text/plain": [
              "            Id  MONTH  DAY_OF_MONTH  DAY_OF_WEEK  \\\n",
              "0            0      7             1            1   \n",
              "1            1      4            12            5   \n",
              "2            2     10            11            5   \n",
              "3            3      9            26            4   \n",
              "4            4      8            13            2   \n",
              "...        ...    ...           ...          ...   \n",
              "298806  298806      6            16            7   \n",
              "298807  298807      3            20            3   \n",
              "298808  298808     10             6            7   \n",
              "298809  298809      7            17            3   \n",
              "298810  298810      3             4            1   \n",
              "\n",
              "                        DEPARTING_AIRPORT ORIGIN_CITY_NAME DEST  \\\n",
              "0       Minneapolis-St Paul International  Minneapolis, MN  PHL   \n",
              "1               Los Angeles International  Los Angeles, CA  BNA   \n",
              "2       Ronald Reagan Washington National   Washington, DC  SYR   \n",
              "3                               LaGuardia     New York, NY  ORD   \n",
              "4              Detroit Metro Wayne County      Detroit, MI  ERI   \n",
              "...                                   ...              ...  ...   \n",
              "298806       Chicago O'Hare International      Chicago, IL  AVL   \n",
              "298807                Tampa International        Tampa, FL  EWR   \n",
              "298808      John F. Kennedy International     New York, NY  MCO   \n",
              "298809             General Mitchell Field    Milwaukee, WI  LGA   \n",
              "298810   Phoenix Sky Harbor International      Phoenix, AZ  SBA   \n",
              "\n",
              "           DEST_CITY_NAME DEP_TIME_BLK  DISTANCE  ...  CARGO_HANDLING  \\\n",
              "0        Philadelphia, PA    2000-2059       980  ...            1462   \n",
              "1           Nashville, TN    1000-1059      1797  ...            1462   \n",
              "2            Syracuse, NY    0700-0759       298  ...               0   \n",
              "3             Chicago, IL    2000-2059       733  ...             518   \n",
              "4                Erie, PA    2000-2059       164  ...              10   \n",
              "...                   ...          ...       ...  ...             ...   \n",
              "298806      Asheville, NC    1800-1859       536  ...              10   \n",
              "298807         Newark, NJ    0700-0759       997  ...             518   \n",
              "298808        Orlando, FL    2100-2159       944  ...              62   \n",
              "298809       New York, NY    0600-0659       738  ...           10955   \n",
              "298810  Santa Barbara, CA    2100-2159       455  ...               0   \n",
              "\n",
              "        FLT_ATTENDANTS_PER_PASS  GROUND_SERV_PER_PASS  PLANE_AGE  \\\n",
              "0                      0.000144              0.000149         18   \n",
              "1                      0.000144              0.000149         18   \n",
              "2                      0.000000              0.000090         16   \n",
              "3                      0.000254              0.000229         12   \n",
              "4                      0.000034              0.000099         16   \n",
              "...                         ...                   ...        ...   \n",
              "298806                 0.000034              0.000099         17   \n",
              "298807                 0.000254              0.000229          4   \n",
              "298808                 0.000160              0.000127         13   \n",
              "298809                 0.000062              0.000099         19   \n",
              "298810                 0.000000              0.000091         14   \n",
              "\n",
              "                                  PREVIOUS_AIRPORT  PRCP  SNOW  SNWD  TMAX  \\\n",
              "0                            Bradley International  0.00   0.0   0.0  93.0   \n",
              "1       Cincinnati/Northern Kentucky International  0.00   0.0   0.0  73.0   \n",
              "2                            Norfolk International  0.00   0.0   0.0  75.0   \n",
              "3                     Chicago O'Hare International  0.00   0.0   0.0  82.0   \n",
              "4             Kalamazoo/Battle Creek International  0.00   0.0   0.0  88.0   \n",
              "...                                            ...   ...   ...   ...   ...   \n",
              "298806                        Duluth International  0.07   0.0   0.0  60.0   \n",
              "298807                                        NONE  0.00   0.0   0.0  76.0   \n",
              "298808                       Orlando International  0.01   0.0   0.0  71.0   \n",
              "298809                                        NONE  0.00   0.0   0.0  84.0   \n",
              "298810             San Luis Obispo County Regional  0.00   0.0   0.0  74.0   \n",
              "\n",
              "         AWND  \n",
              "0        4.70  \n",
              "1       12.30  \n",
              "2        5.82  \n",
              "3        9.40  \n",
              "4        7.61  \n",
              "...       ...  \n",
              "298806   9.62  \n",
              "298807   8.50  \n",
              "298808  10.96  \n",
              "298809   6.71  \n",
              "298810   4.92  \n",
              "\n",
              "[298811 rows x 30 columns]"
            ]
          },
          "execution_count": 337,
          "metadata": {},
          "output_type": "execute_result"
        }
      ],
      "source": [
        "test_data"
      ]
    },
    {
      "cell_type": "markdown",
      "metadata": {
        "id": "ZQQxO9F9qS1X"
      },
      "source": [
        "Since we used only the \"SEGMENT_NUMBER\", \"NUMBER_OF_SEATS\", \"PRCP\", \"CARGO_HANDLING\", \"AIRLINE_FLIGHTS_MONTH\", \"DEP_TIME_BLK\" columns when training, we must only use these when testing, because these features are what our model is trained on"
      ]
    },
    {
      "cell_type": "markdown",
      "metadata": {
        "id": "CCVuP4SaqS1X"
      },
      "source": [
        "Note, we MUST keep the Id column here to create our submission file"
      ]
    },
    {
      "cell_type": "code",
      "execution_count": 338,
      "metadata": {
        "id": "v2Z_I9rPqS1X"
      },
      "outputs": [],
      "source": [
        "test_data = test_data[[\"Id\", \"SEGMENT_NUMBER\", \"NUMBER_OF_SEATS\", \"CARRIER_NAME\", \"AIRLINE_FLIGHTS_MONTH\", \"CARGO_HANDLING\", \"AVG_MONTHLY_PASS_AIRLINE\", \"PRCP\"]]"
      ]
    },
    {
      "cell_type": "code",
      "execution_count": 339,
      "metadata": {
        "colab": {
          "base_uri": "https://localhost:8080/",
          "height": 206
        },
        "id": "tBqZaqAmqS1Y",
        "outputId": "42c25575-5d2e-4c9c-aae6-7ae28ba72a08"
      },
      "outputs": [
        {
          "data": {
            "text/html": [
              "<div>\n",
              "<style scoped>\n",
              "    .dataframe tbody tr th:only-of-type {\n",
              "        vertical-align: middle;\n",
              "    }\n",
              "\n",
              "    .dataframe tbody tr th {\n",
              "        vertical-align: top;\n",
              "    }\n",
              "\n",
              "    .dataframe thead th {\n",
              "        text-align: right;\n",
              "    }\n",
              "</style>\n",
              "<table border=\"1\" class=\"dataframe\">\n",
              "  <thead>\n",
              "    <tr style=\"text-align: right;\">\n",
              "      <th></th>\n",
              "      <th>Id</th>\n",
              "      <th>SEGMENT_NUMBER</th>\n",
              "      <th>NUMBER_OF_SEATS</th>\n",
              "      <th>CARRIER_NAME</th>\n",
              "      <th>AIRLINE_FLIGHTS_MONTH</th>\n",
              "      <th>CARGO_HANDLING</th>\n",
              "      <th>AVG_MONTHLY_PASS_AIRLINE</th>\n",
              "      <th>PRCP</th>\n",
              "    </tr>\n",
              "  </thead>\n",
              "  <tbody>\n",
              "    <tr>\n",
              "      <th>0</th>\n",
              "      <td>0</td>\n",
              "      <td>4</td>\n",
              "      <td>132</td>\n",
              "      <td>Delta Air Lines Inc.</td>\n",
              "      <td>86274</td>\n",
              "      <td>1462</td>\n",
              "      <td>12460183</td>\n",
              "      <td>0.0</td>\n",
              "    </tr>\n",
              "    <tr>\n",
              "      <th>1</th>\n",
              "      <td>1</td>\n",
              "      <td>2</td>\n",
              "      <td>160</td>\n",
              "      <td>Delta Air Lines Inc.</td>\n",
              "      <td>76299</td>\n",
              "      <td>1462</td>\n",
              "      <td>12460183</td>\n",
              "      <td>0.0</td>\n",
              "    </tr>\n",
              "    <tr>\n",
              "      <th>2</th>\n",
              "      <td>2</td>\n",
              "      <td>2</td>\n",
              "      <td>50</td>\n",
              "      <td>Comair Inc.</td>\n",
              "      <td>23411</td>\n",
              "      <td>0</td>\n",
              "      <td>1245396</td>\n",
              "      <td>0.0</td>\n",
              "    </tr>\n",
              "    <tr>\n",
              "      <th>3</th>\n",
              "      <td>3</td>\n",
              "      <td>5</td>\n",
              "      <td>120</td>\n",
              "      <td>United Air Lines Inc.</td>\n",
              "      <td>51182</td>\n",
              "      <td>518</td>\n",
              "      <td>8501631</td>\n",
              "      <td>0.0</td>\n",
              "    </tr>\n",
              "    <tr>\n",
              "      <th>4</th>\n",
              "      <td>4</td>\n",
              "      <td>9</td>\n",
              "      <td>50</td>\n",
              "      <td>SkyWest Airlines Inc.</td>\n",
              "      <td>70841</td>\n",
              "      <td>10</td>\n",
              "      <td>3472966</td>\n",
              "      <td>0.0</td>\n",
              "    </tr>\n",
              "  </tbody>\n",
              "</table>\n",
              "</div>"
            ],
            "text/plain": [
              "   Id  SEGMENT_NUMBER  NUMBER_OF_SEATS           CARRIER_NAME  \\\n",
              "0   0               4              132   Delta Air Lines Inc.   \n",
              "1   1               2              160   Delta Air Lines Inc.   \n",
              "2   2               2               50            Comair Inc.   \n",
              "3   3               5              120  United Air Lines Inc.   \n",
              "4   4               9               50  SkyWest Airlines Inc.   \n",
              "\n",
              "   AIRLINE_FLIGHTS_MONTH  CARGO_HANDLING  AVG_MONTHLY_PASS_AIRLINE  PRCP  \n",
              "0                  86274            1462                  12460183   0.0  \n",
              "1                  76299            1462                  12460183   0.0  \n",
              "2                  23411               0                   1245396   0.0  \n",
              "3                  51182             518                   8501631   0.0  \n",
              "4                  70841              10                   3472966   0.0  "
            ]
          },
          "execution_count": 339,
          "metadata": {},
          "output_type": "execute_result"
        }
      ],
      "source": [
        "test_data.head()"
      ]
    },
    {
      "cell_type": "markdown",
      "metadata": {
        "id": "t_A1_ullqS1Y"
      },
      "source": [
        "Me must make the DEPARTING_AIRPORT, CARRIER_NAME, and  DEP_TIME_BLK. numerical using the SAME label encoder we used on our train data for consistency, but first, as mentioned before, we must check if there are any values in these categories that weren't in the training data so we don't run into any errors. If we find any, we replace them with \"UNSEEN\""
      ]
    },
    {
      "cell_type": "code",
      "execution_count": 340,
      "metadata": {
        "colab": {
          "base_uri": "https://localhost:8080/"
        },
        "id": "aJwectVzqS1Y",
        "outputId": "fc4601bd-4e4d-424d-c141-25c11e29462a"
      },
      "outputs": [
        {
          "ename": "KeyError",
          "evalue": "'DEP_TIME_BLK'",
          "output_type": "error",
          "traceback": [
            "\u001b[0;31m---------------------------------------------------------------------------\u001b[0m",
            "\u001b[0;31mKeyError\u001b[0m                                  Traceback (most recent call last)",
            "File \u001b[0;32m/Library/Frameworks/Python.framework/Versions/3.11/lib/python3.11/site-packages/pandas/core/indexes/base.py:3790\u001b[0m, in \u001b[0;36mIndex.get_loc\u001b[0;34m(self, key)\u001b[0m\n\u001b[1;32m   3789\u001b[0m \u001b[39mtry\u001b[39;00m:\n\u001b[0;32m-> 3790\u001b[0m     \u001b[39mreturn\u001b[39;00m \u001b[39mself\u001b[39;49m\u001b[39m.\u001b[39;49m_engine\u001b[39m.\u001b[39;49mget_loc(casted_key)\n\u001b[1;32m   3791\u001b[0m \u001b[39mexcept\u001b[39;00m \u001b[39mKeyError\u001b[39;00m \u001b[39mas\u001b[39;00m err:\n",
            "File \u001b[0;32mindex.pyx:152\u001b[0m, in \u001b[0;36mpandas._libs.index.IndexEngine.get_loc\u001b[0;34m()\u001b[0m\n",
            "File \u001b[0;32mindex.pyx:181\u001b[0m, in \u001b[0;36mpandas._libs.index.IndexEngine.get_loc\u001b[0;34m()\u001b[0m\n",
            "File \u001b[0;32mpandas/_libs/hashtable_class_helper.pxi:7080\u001b[0m, in \u001b[0;36mpandas._libs.hashtable.PyObjectHashTable.get_item\u001b[0;34m()\u001b[0m\n",
            "File \u001b[0;32mpandas/_libs/hashtable_class_helper.pxi:7088\u001b[0m, in \u001b[0;36mpandas._libs.hashtable.PyObjectHashTable.get_item\u001b[0;34m()\u001b[0m\n",
            "\u001b[0;31mKeyError\u001b[0m: 'DEP_TIME_BLK'",
            "\nThe above exception was the direct cause of the following exception:\n",
            "\u001b[0;31mKeyError\u001b[0m                                  Traceback (most recent call last)",
            "\u001b[1;32m/Users/anigupta/Documents/Datathon/5c_datathon_starter_code.ipynb Cell 50\u001b[0m line \u001b[0;36m2\n\u001b[1;32m      <a href='vscode-notebook-cell:/Users/anigupta/Documents/Datathon/5c_datathon_starter_code.ipynb#Y100sZmlsZQ%3D%3D?line=0'>1</a>\u001b[0m new_dep_time_blk \u001b[39m=\u001b[39m []\n\u001b[0;32m----> <a href='vscode-notebook-cell:/Users/anigupta/Documents/Datathon/5c_datathon_starter_code.ipynb#Y100sZmlsZQ%3D%3D?line=1'>2</a>\u001b[0m \u001b[39mfor\u001b[39;00m value \u001b[39min\u001b[39;00m test_data[\u001b[39m\"\u001b[39;49m\u001b[39mDEP_TIME_BLK\u001b[39;49m\u001b[39m\"\u001b[39;49m]:\n\u001b[1;32m      <a href='vscode-notebook-cell:/Users/anigupta/Documents/Datathon/5c_datathon_starter_code.ipynb#Y100sZmlsZQ%3D%3D?line=2'>3</a>\u001b[0m        \u001b[39m# If the value is unknown, we tag the \"UNSEEN\"\u001b[39;00m\n\u001b[1;32m      <a href='vscode-notebook-cell:/Users/anigupta/Documents/Datathon/5c_datathon_starter_code.ipynb#Y100sZmlsZQ%3D%3D?line=3'>4</a>\u001b[0m        \u001b[39mif\u001b[39;00m value \u001b[39mnot\u001b[39;00m \u001b[39min\u001b[39;00m dep_time_blk_le\u001b[39m.\u001b[39mclasses_:\n\u001b[1;32m      <a href='vscode-notebook-cell:/Users/anigupta/Documents/Datathon/5c_datathon_starter_code.ipynb#Y100sZmlsZQ%3D%3D?line=4'>5</a>\u001b[0m               new_dep_time_blk\u001b[39m.\u001b[39mappend(\u001b[39m\"\u001b[39m\u001b[39mUNSEEN\u001b[39m\u001b[39m\"\u001b[39m)\n",
            "File \u001b[0;32m/Library/Frameworks/Python.framework/Versions/3.11/lib/python3.11/site-packages/pandas/core/frame.py:3896\u001b[0m, in \u001b[0;36mDataFrame.__getitem__\u001b[0;34m(self, key)\u001b[0m\n\u001b[1;32m   3894\u001b[0m \u001b[39mif\u001b[39;00m \u001b[39mself\u001b[39m\u001b[39m.\u001b[39mcolumns\u001b[39m.\u001b[39mnlevels \u001b[39m>\u001b[39m \u001b[39m1\u001b[39m:\n\u001b[1;32m   3895\u001b[0m     \u001b[39mreturn\u001b[39;00m \u001b[39mself\u001b[39m\u001b[39m.\u001b[39m_getitem_multilevel(key)\n\u001b[0;32m-> 3896\u001b[0m indexer \u001b[39m=\u001b[39m \u001b[39mself\u001b[39;49m\u001b[39m.\u001b[39;49mcolumns\u001b[39m.\u001b[39;49mget_loc(key)\n\u001b[1;32m   3897\u001b[0m \u001b[39mif\u001b[39;00m is_integer(indexer):\n\u001b[1;32m   3898\u001b[0m     indexer \u001b[39m=\u001b[39m [indexer]\n",
            "File \u001b[0;32m/Library/Frameworks/Python.framework/Versions/3.11/lib/python3.11/site-packages/pandas/core/indexes/base.py:3797\u001b[0m, in \u001b[0;36mIndex.get_loc\u001b[0;34m(self, key)\u001b[0m\n\u001b[1;32m   3792\u001b[0m     \u001b[39mif\u001b[39;00m \u001b[39misinstance\u001b[39m(casted_key, \u001b[39mslice\u001b[39m) \u001b[39mor\u001b[39;00m (\n\u001b[1;32m   3793\u001b[0m         \u001b[39misinstance\u001b[39m(casted_key, abc\u001b[39m.\u001b[39mIterable)\n\u001b[1;32m   3794\u001b[0m         \u001b[39mand\u001b[39;00m \u001b[39many\u001b[39m(\u001b[39misinstance\u001b[39m(x, \u001b[39mslice\u001b[39m) \u001b[39mfor\u001b[39;00m x \u001b[39min\u001b[39;00m casted_key)\n\u001b[1;32m   3795\u001b[0m     ):\n\u001b[1;32m   3796\u001b[0m         \u001b[39mraise\u001b[39;00m InvalidIndexError(key)\n\u001b[0;32m-> 3797\u001b[0m     \u001b[39mraise\u001b[39;00m \u001b[39mKeyError\u001b[39;00m(key) \u001b[39mfrom\u001b[39;00m \u001b[39merr\u001b[39;00m\n\u001b[1;32m   3798\u001b[0m \u001b[39mexcept\u001b[39;00m \u001b[39mTypeError\u001b[39;00m:\n\u001b[1;32m   3799\u001b[0m     \u001b[39m# If we have a listlike key, _check_indexing_error will raise\u001b[39;00m\n\u001b[1;32m   3800\u001b[0m     \u001b[39m#  InvalidIndexError. Otherwise we fall through and re-raise\u001b[39;00m\n\u001b[1;32m   3801\u001b[0m     \u001b[39m#  the TypeError.\u001b[39;00m\n\u001b[1;32m   3802\u001b[0m     \u001b[39mself\u001b[39m\u001b[39m.\u001b[39m_check_indexing_error(key)\n",
            "\u001b[0;31mKeyError\u001b[0m: 'DEP_TIME_BLK'"
          ]
        }
      ],
      "source": [
        "new_dep_time_blk = []\n",
        "for value in test_data[\"DEP_TIME_BLK\"]:\n",
        "       # If the value is unknown, we tag the \"UNSEEN\"\n",
        "       if value not in dep_time_blk_le.classes_:\n",
        "              new_dep_time_blk.append(\"UNSEEN\")\n",
        "       # If the value is known to the labelencoder, we can safely append that value\n",
        "       else:\n",
        "              new_dep_time_blk.append(value)\n",
        "# Replace\n",
        "test_data[\"DEP_TIME_BLK\"] = new_dep_time_blk"
      ]
    },
    {
      "cell_type": "code",
      "execution_count": null,
      "metadata": {
        "colab": {
          "base_uri": "https://localhost:8080/"
        },
        "id": "kxrOmCz6qS1Y",
        "outputId": "4bf32763-f8f3-483e-9eba-b08f2216915f"
      },
      "outputs": [
        {
          "name": "stderr",
          "output_type": "stream",
          "text": [
            "/var/folders/cr/m32btyq969l6md66r6d5_9cm0000gn/T/ipykernel_49883/3279823407.py:10: SettingWithCopyWarning: \n",
            "A value is trying to be set on a copy of a slice from a DataFrame.\n",
            "Try using .loc[row_indexer,col_indexer] = value instead\n",
            "\n",
            "See the caveats in the documentation: https://pandas.pydata.org/pandas-docs/stable/user_guide/indexing.html#returning-a-view-versus-a-copy\n",
            "  test_data[\"DEPARTING_AIRPORT\"] = new_departing_airport\n"
          ]
        }
      ],
      "source": [
        "new_departing_airport = []\n",
        "for value in test_data[\"DEPARTING_AIRPORT\"]:\n",
        "       # If the value is unknown, we tag the \"UNSEEN\"\n",
        "       if value not in departing_airport_le.classes_:\n",
        "              new_departing_airport.append(\"UNSEEN\")\n",
        "       # If the value is known to the labelencoder, we can safely append that value\n",
        "       else:\n",
        "              new_departing_airport.append(value)\n",
        "# Replace\n",
        "test_data[\"DEPARTING_AIRPORT\"] = new_departing_airport"
      ]
    },
    {
      "cell_type": "code",
      "execution_count": null,
      "metadata": {
        "colab": {
          "base_uri": "https://localhost:8080/"
        },
        "id": "27zVRP7IqS1Z",
        "outputId": "d32289f8-7ddd-47e4-b132-ac6c1607f646"
      },
      "outputs": [
        {
          "name": "stderr",
          "output_type": "stream",
          "text": [
            "/var/folders/cr/m32btyq969l6md66r6d5_9cm0000gn/T/ipykernel_49883/361337649.py:10: SettingWithCopyWarning: \n",
            "A value is trying to be set on a copy of a slice from a DataFrame.\n",
            "Try using .loc[row_indexer,col_indexer] = value instead\n",
            "\n",
            "See the caveats in the documentation: https://pandas.pydata.org/pandas-docs/stable/user_guide/indexing.html#returning-a-view-versus-a-copy\n",
            "  test_data[\"CARRIER_NAME\"] = new_carrier\n"
          ]
        }
      ],
      "source": [
        "new_carrier = []\n",
        "for value in test_data[\"CARRIER_NAME\"]:\n",
        "       # If the value is unknown, we tag the \"UNSEEN\"\n",
        "       if value not in carrier_name_le.classes_:\n",
        "              new_carrier.append(\"UNSEEN\")\n",
        "       # If the value is known to the labelencoder, we can safely append that value\n",
        "       else:\n",
        "              new_carrier.append(value)\n",
        "# Replace\n",
        "test_data[\"CARRIER_NAME\"] = new_carrier"
      ]
    },
    {
      "cell_type": "code",
      "execution_count": null,
      "metadata": {
        "colab": {
          "base_uri": "https://localhost:8080/",
          "height": 510
        },
        "id": "NQ9jtSTVqS1Z",
        "outputId": "a168a903-24da-4c20-bda4-b8469f21aacc"
      },
      "outputs": [
        {
          "data": {
            "text/html": [
              "<div>\n",
              "<style scoped>\n",
              "    .dataframe tbody tr th:only-of-type {\n",
              "        vertical-align: middle;\n",
              "    }\n",
              "\n",
              "    .dataframe tbody tr th {\n",
              "        vertical-align: top;\n",
              "    }\n",
              "\n",
              "    .dataframe thead th {\n",
              "        text-align: right;\n",
              "    }\n",
              "</style>\n",
              "<table border=\"1\" class=\"dataframe\">\n",
              "  <thead>\n",
              "    <tr style=\"text-align: right;\">\n",
              "      <th></th>\n",
              "      <th>Id</th>\n",
              "      <th>PRCP</th>\n",
              "      <th>SNOW</th>\n",
              "      <th>FLT_ATTENDANTS_PER_PASS</th>\n",
              "      <th>PLANE_AGE</th>\n",
              "      <th>MONTH</th>\n",
              "      <th>PREVIOUS_AIRPORT</th>\n",
              "      <th>DEPARTING_AIRPORT</th>\n",
              "      <th>DEST</th>\n",
              "      <th>CONCURRENT_FLIGHTS</th>\n",
              "      <th>DEP_TIME_BLK</th>\n",
              "      <th>DAY_OF_WEEK</th>\n",
              "      <th>CARRIER_NAME</th>\n",
              "      <th>CARGO_HANDLING</th>\n",
              "    </tr>\n",
              "  </thead>\n",
              "  <tbody>\n",
              "    <tr>\n",
              "      <th>0</th>\n",
              "      <td>0</td>\n",
              "      <td>0.00</td>\n",
              "      <td>0.0</td>\n",
              "      <td>0.000144</td>\n",
              "      <td>18</td>\n",
              "      <td>7</td>\n",
              "      <td>Bradley International</td>\n",
              "      <td>Minneapolis-St Paul International</td>\n",
              "      <td>PHL</td>\n",
              "      <td>47</td>\n",
              "      <td>2000-2059</td>\n",
              "      <td>1</td>\n",
              "      <td>Delta Air Lines Inc.</td>\n",
              "      <td>1462</td>\n",
              "    </tr>\n",
              "    <tr>\n",
              "      <th>1</th>\n",
              "      <td>1</td>\n",
              "      <td>0.00</td>\n",
              "      <td>0.0</td>\n",
              "      <td>0.000144</td>\n",
              "      <td>18</td>\n",
              "      <td>4</td>\n",
              "      <td>Cincinnati/Northern Kentucky International</td>\n",
              "      <td>Los Angeles International</td>\n",
              "      <td>BNA</td>\n",
              "      <td>40</td>\n",
              "      <td>1000-1059</td>\n",
              "      <td>5</td>\n",
              "      <td>Delta Air Lines Inc.</td>\n",
              "      <td>1462</td>\n",
              "    </tr>\n",
              "    <tr>\n",
              "      <th>2</th>\n",
              "      <td>2</td>\n",
              "      <td>0.00</td>\n",
              "      <td>0.0</td>\n",
              "      <td>0.000000</td>\n",
              "      <td>16</td>\n",
              "      <td>10</td>\n",
              "      <td>Norfolk International</td>\n",
              "      <td>Ronald Reagan Washington National</td>\n",
              "      <td>SYR</td>\n",
              "      <td>23</td>\n",
              "      <td>0700-0759</td>\n",
              "      <td>5</td>\n",
              "      <td>Comair Inc.</td>\n",
              "      <td>0</td>\n",
              "    </tr>\n",
              "    <tr>\n",
              "      <th>3</th>\n",
              "      <td>3</td>\n",
              "      <td>0.00</td>\n",
              "      <td>0.0</td>\n",
              "      <td>0.000254</td>\n",
              "      <td>12</td>\n",
              "      <td>9</td>\n",
              "      <td>Chicago O'Hare International</td>\n",
              "      <td>LaGuardia</td>\n",
              "      <td>ORD</td>\n",
              "      <td>28</td>\n",
              "      <td>2000-2059</td>\n",
              "      <td>4</td>\n",
              "      <td>United Air Lines Inc.</td>\n",
              "      <td>518</td>\n",
              "    </tr>\n",
              "    <tr>\n",
              "      <th>4</th>\n",
              "      <td>4</td>\n",
              "      <td>0.00</td>\n",
              "      <td>0.0</td>\n",
              "      <td>0.000034</td>\n",
              "      <td>16</td>\n",
              "      <td>8</td>\n",
              "      <td>Kalamazoo/Battle Creek International</td>\n",
              "      <td>Detroit Metro Wayne County</td>\n",
              "      <td>ERI</td>\n",
              "      <td>64</td>\n",
              "      <td>2000-2059</td>\n",
              "      <td>2</td>\n",
              "      <td>SkyWest Airlines Inc.</td>\n",
              "      <td>10</td>\n",
              "    </tr>\n",
              "    <tr>\n",
              "      <th>...</th>\n",
              "      <td>...</td>\n",
              "      <td>...</td>\n",
              "      <td>...</td>\n",
              "      <td>...</td>\n",
              "      <td>...</td>\n",
              "      <td>...</td>\n",
              "      <td>...</td>\n",
              "      <td>...</td>\n",
              "      <td>...</td>\n",
              "      <td>...</td>\n",
              "      <td>...</td>\n",
              "      <td>...</td>\n",
              "      <td>...</td>\n",
              "      <td>...</td>\n",
              "    </tr>\n",
              "    <tr>\n",
              "      <th>298806</th>\n",
              "      <td>298806</td>\n",
              "      <td>0.07</td>\n",
              "      <td>0.0</td>\n",
              "      <td>0.000034</td>\n",
              "      <td>17</td>\n",
              "      <td>6</td>\n",
              "      <td>Duluth International</td>\n",
              "      <td>Chicago O'Hare International</td>\n",
              "      <td>AVL</td>\n",
              "      <td>75</td>\n",
              "      <td>1800-1859</td>\n",
              "      <td>7</td>\n",
              "      <td>SkyWest Airlines Inc.</td>\n",
              "      <td>10</td>\n",
              "    </tr>\n",
              "    <tr>\n",
              "      <th>298807</th>\n",
              "      <td>298807</td>\n",
              "      <td>0.00</td>\n",
              "      <td>0.0</td>\n",
              "      <td>0.000254</td>\n",
              "      <td>4</td>\n",
              "      <td>3</td>\n",
              "      <td>NONE</td>\n",
              "      <td>Tampa International</td>\n",
              "      <td>EWR</td>\n",
              "      <td>16</td>\n",
              "      <td>0700-0759</td>\n",
              "      <td>3</td>\n",
              "      <td>United Air Lines Inc.</td>\n",
              "      <td>518</td>\n",
              "    </tr>\n",
              "    <tr>\n",
              "      <th>298808</th>\n",
              "      <td>298808</td>\n",
              "      <td>0.01</td>\n",
              "      <td>0.0</td>\n",
              "      <td>0.000160</td>\n",
              "      <td>13</td>\n",
              "      <td>10</td>\n",
              "      <td>Orlando International</td>\n",
              "      <td>John F. Kennedy International</td>\n",
              "      <td>MCO</td>\n",
              "      <td>21</td>\n",
              "      <td>2100-2159</td>\n",
              "      <td>7</td>\n",
              "      <td>JetBlue Airways</td>\n",
              "      <td>62</td>\n",
              "    </tr>\n",
              "    <tr>\n",
              "      <th>298809</th>\n",
              "      <td>298809</td>\n",
              "      <td>0.00</td>\n",
              "      <td>0.0</td>\n",
              "      <td>0.000062</td>\n",
              "      <td>19</td>\n",
              "      <td>7</td>\n",
              "      <td>NONE</td>\n",
              "      <td>General Mitchell Field</td>\n",
              "      <td>LGA</td>\n",
              "      <td>11</td>\n",
              "      <td>0600-0659</td>\n",
              "      <td>3</td>\n",
              "      <td>Southwest Airlines Co.</td>\n",
              "      <td>10955</td>\n",
              "    </tr>\n",
              "    <tr>\n",
              "      <th>298810</th>\n",
              "      <td>298810</td>\n",
              "      <td>0.00</td>\n",
              "      <td>0.0</td>\n",
              "      <td>0.000000</td>\n",
              "      <td>14</td>\n",
              "      <td>3</td>\n",
              "      <td>San Luis Obispo County Regional</td>\n",
              "      <td>Phoenix Sky Harbor International</td>\n",
              "      <td>SBA</td>\n",
              "      <td>33</td>\n",
              "      <td>2100-2159</td>\n",
              "      <td>1</td>\n",
              "      <td>Mesa Airlines Inc.</td>\n",
              "      <td>0</td>\n",
              "    </tr>\n",
              "  </tbody>\n",
              "</table>\n",
              "<p>298811 rows × 14 columns</p>\n",
              "</div>"
            ],
            "text/plain": [
              "            Id  PRCP  SNOW  FLT_ATTENDANTS_PER_PASS  PLANE_AGE  MONTH  \\\n",
              "0            0  0.00   0.0                 0.000144         18      7   \n",
              "1            1  0.00   0.0                 0.000144         18      4   \n",
              "2            2  0.00   0.0                 0.000000         16     10   \n",
              "3            3  0.00   0.0                 0.000254         12      9   \n",
              "4            4  0.00   0.0                 0.000034         16      8   \n",
              "...        ...   ...   ...                      ...        ...    ...   \n",
              "298806  298806  0.07   0.0                 0.000034         17      6   \n",
              "298807  298807  0.00   0.0                 0.000254          4      3   \n",
              "298808  298808  0.01   0.0                 0.000160         13     10   \n",
              "298809  298809  0.00   0.0                 0.000062         19      7   \n",
              "298810  298810  0.00   0.0                 0.000000         14      3   \n",
              "\n",
              "                                  PREVIOUS_AIRPORT  \\\n",
              "0                            Bradley International   \n",
              "1       Cincinnati/Northern Kentucky International   \n",
              "2                            Norfolk International   \n",
              "3                     Chicago O'Hare International   \n",
              "4             Kalamazoo/Battle Creek International   \n",
              "...                                            ...   \n",
              "298806                        Duluth International   \n",
              "298807                                        NONE   \n",
              "298808                       Orlando International   \n",
              "298809                                        NONE   \n",
              "298810             San Luis Obispo County Regional   \n",
              "\n",
              "                        DEPARTING_AIRPORT DEST  CONCURRENT_FLIGHTS  \\\n",
              "0       Minneapolis-St Paul International  PHL                  47   \n",
              "1               Los Angeles International  BNA                  40   \n",
              "2       Ronald Reagan Washington National  SYR                  23   \n",
              "3                               LaGuardia  ORD                  28   \n",
              "4              Detroit Metro Wayne County  ERI                  64   \n",
              "...                                   ...  ...                 ...   \n",
              "298806       Chicago O'Hare International  AVL                  75   \n",
              "298807                Tampa International  EWR                  16   \n",
              "298808      John F. Kennedy International  MCO                  21   \n",
              "298809             General Mitchell Field  LGA                  11   \n",
              "298810   Phoenix Sky Harbor International  SBA                  33   \n",
              "\n",
              "       DEP_TIME_BLK  DAY_OF_WEEK            CARRIER_NAME  CARGO_HANDLING  \n",
              "0         2000-2059            1    Delta Air Lines Inc.            1462  \n",
              "1         1000-1059            5    Delta Air Lines Inc.            1462  \n",
              "2         0700-0759            5             Comair Inc.               0  \n",
              "3         2000-2059            4   United Air Lines Inc.             518  \n",
              "4         2000-2059            2   SkyWest Airlines Inc.              10  \n",
              "...             ...          ...                     ...             ...  \n",
              "298806    1800-1859            7   SkyWest Airlines Inc.              10  \n",
              "298807    0700-0759            3   United Air Lines Inc.             518  \n",
              "298808    2100-2159            7         JetBlue Airways              62  \n",
              "298809    0600-0659            3  Southwest Airlines Co.           10955  \n",
              "298810    2100-2159            1      Mesa Airlines Inc.               0  \n",
              "\n",
              "[298811 rows x 14 columns]"
            ]
          },
          "execution_count": 299,
          "metadata": {},
          "output_type": "execute_result"
        }
      ],
      "source": [
        "test_data"
      ]
    },
    {
      "cell_type": "code",
      "execution_count": null,
      "metadata": {
        "colab": {
          "base_uri": "https://localhost:8080/"
        },
        "id": "2K06cvoUqS1a",
        "outputId": "d831c373-9fa6-432f-b598-3f053e13cad4"
      },
      "outputs": [
        {
          "name": "stderr",
          "output_type": "stream",
          "text": [
            "/var/folders/cr/m32btyq969l6md66r6d5_9cm0000gn/T/ipykernel_49883/1723798539.py:1: SettingWithCopyWarning: \n",
            "A value is trying to be set on a copy of a slice from a DataFrame.\n",
            "Try using .loc[row_indexer,col_indexer] = value instead\n",
            "\n",
            "See the caveats in the documentation: https://pandas.pydata.org/pandas-docs/stable/user_guide/indexing.html#returning-a-view-versus-a-copy\n",
            "  test_data[\"DEP_TIME_BLK\"] = dep_time_blk_le.transform(test_data[\"DEP_TIME_BLK\"])\n",
            "/var/folders/cr/m32btyq969l6md66r6d5_9cm0000gn/T/ipykernel_49883/1723798539.py:2: SettingWithCopyWarning: \n",
            "A value is trying to be set on a copy of a slice from a DataFrame.\n",
            "Try using .loc[row_indexer,col_indexer] = value instead\n",
            "\n",
            "See the caveats in the documentation: https://pandas.pydata.org/pandas-docs/stable/user_guide/indexing.html#returning-a-view-versus-a-copy\n",
            "  test_data[\"DEPARTING_AIRPORT\"] = departing_airport_le.transform(test_data[\"DEPARTING_AIRPORT\"])\n",
            "/var/folders/cr/m32btyq969l6md66r6d5_9cm0000gn/T/ipykernel_49883/1723798539.py:3: SettingWithCopyWarning: \n",
            "A value is trying to be set on a copy of a slice from a DataFrame.\n",
            "Try using .loc[row_indexer,col_indexer] = value instead\n",
            "\n",
            "See the caveats in the documentation: https://pandas.pydata.org/pandas-docs/stable/user_guide/indexing.html#returning-a-view-versus-a-copy\n",
            "  test_data[\"CARRIER_NAME\"] = carrier_name_le.transform(test_data[\"CARRIER_NAME\"])\n"
          ]
        }
      ],
      "source": [
        "test_data[\"DEP_TIME_BLK\"] = dep_time_blk_le.transform(test_data[\"DEP_TIME_BLK\"])\n",
        "test_data[\"DEPARTING_AIRPORT\"] = departing_airport_le.transform(test_data[\"DEPARTING_AIRPORT\"])\n",
        "test_data[\"CARRIER_NAME\"] = carrier_name_le.transform(test_data[\"CARRIER_NAME\"])"
      ]
    },
    {
      "cell_type": "code",
      "execution_count": null,
      "metadata": {
        "colab": {
          "base_uri": "https://localhost:8080/",
          "height": 424
        },
        "id": "CoQOHfkPqS1a",
        "outputId": "ef48374b-fb62-4707-e0f7-87d93049a337"
      },
      "outputs": [
        {
          "data": {
            "text/html": [
              "<div>\n",
              "<style scoped>\n",
              "    .dataframe tbody tr th:only-of-type {\n",
              "        vertical-align: middle;\n",
              "    }\n",
              "\n",
              "    .dataframe tbody tr th {\n",
              "        vertical-align: top;\n",
              "    }\n",
              "\n",
              "    .dataframe thead th {\n",
              "        text-align: right;\n",
              "    }\n",
              "</style>\n",
              "<table border=\"1\" class=\"dataframe\">\n",
              "  <thead>\n",
              "    <tr style=\"text-align: right;\">\n",
              "      <th></th>\n",
              "      <th>Id</th>\n",
              "      <th>PRCP</th>\n",
              "      <th>SNOW</th>\n",
              "      <th>FLT_ATTENDANTS_PER_PASS</th>\n",
              "      <th>PLANE_AGE</th>\n",
              "      <th>MONTH</th>\n",
              "      <th>PREVIOUS_AIRPORT</th>\n",
              "      <th>DEPARTING_AIRPORT</th>\n",
              "      <th>DEST</th>\n",
              "      <th>CONCURRENT_FLIGHTS</th>\n",
              "      <th>DEP_TIME_BLK</th>\n",
              "      <th>DAY_OF_WEEK</th>\n",
              "      <th>CARRIER_NAME</th>\n",
              "      <th>CARGO_HANDLING</th>\n",
              "    </tr>\n",
              "  </thead>\n",
              "  <tbody>\n",
              "    <tr>\n",
              "      <th>0</th>\n",
              "      <td>0</td>\n",
              "      <td>0.00</td>\n",
              "      <td>0.0</td>\n",
              "      <td>0.000144</td>\n",
              "      <td>18</td>\n",
              "      <td>7</td>\n",
              "      <td>Bradley International</td>\n",
              "      <td>48</td>\n",
              "      <td>PHL</td>\n",
              "      <td>47</td>\n",
              "      <td>15</td>\n",
              "      <td>1</td>\n",
              "      <td>5</td>\n",
              "      <td>1462</td>\n",
              "    </tr>\n",
              "    <tr>\n",
              "      <th>1</th>\n",
              "      <td>1</td>\n",
              "      <td>0.00</td>\n",
              "      <td>0.0</td>\n",
              "      <td>0.000144</td>\n",
              "      <td>18</td>\n",
              "      <td>4</td>\n",
              "      <td>Cincinnati/Northern Kentucky International</td>\n",
              "      <td>41</td>\n",
              "      <td>BNA</td>\n",
              "      <td>40</td>\n",
              "      <td>5</td>\n",
              "      <td>5</td>\n",
              "      <td>5</td>\n",
              "      <td>1462</td>\n",
              "    </tr>\n",
              "    <tr>\n",
              "      <th>2</th>\n",
              "      <td>2</td>\n",
              "      <td>0.00</td>\n",
              "      <td>0.0</td>\n",
              "      <td>0.000000</td>\n",
              "      <td>16</td>\n",
              "      <td>10</td>\n",
              "      <td>Norfolk International</td>\n",
              "      <td>71</td>\n",
              "      <td>SYR</td>\n",
              "      <td>23</td>\n",
              "      <td>2</td>\n",
              "      <td>5</td>\n",
              "      <td>4</td>\n",
              "      <td>0</td>\n",
              "    </tr>\n",
              "    <tr>\n",
              "      <th>3</th>\n",
              "      <td>3</td>\n",
              "      <td>0.00</td>\n",
              "      <td>0.0</td>\n",
              "      <td>0.000254</td>\n",
              "      <td>12</td>\n",
              "      <td>9</td>\n",
              "      <td>Chicago O'Hare International</td>\n",
              "      <td>36</td>\n",
              "      <td>ORD</td>\n",
              "      <td>28</td>\n",
              "      <td>15</td>\n",
              "      <td>4</td>\n",
              "      <td>16</td>\n",
              "      <td>518</td>\n",
              "    </tr>\n",
              "    <tr>\n",
              "      <th>4</th>\n",
              "      <td>4</td>\n",
              "      <td>0.00</td>\n",
              "      <td>0.0</td>\n",
              "      <td>0.000034</td>\n",
              "      <td>16</td>\n",
              "      <td>8</td>\n",
              "      <td>Kalamazoo/Battle Creek International</td>\n",
              "      <td>16</td>\n",
              "      <td>ERI</td>\n",
              "      <td>64</td>\n",
              "      <td>15</td>\n",
              "      <td>2</td>\n",
              "      <td>12</td>\n",
              "      <td>10</td>\n",
              "    </tr>\n",
              "    <tr>\n",
              "      <th>...</th>\n",
              "      <td>...</td>\n",
              "      <td>...</td>\n",
              "      <td>...</td>\n",
              "      <td>...</td>\n",
              "      <td>...</td>\n",
              "      <td>...</td>\n",
              "      <td>...</td>\n",
              "      <td>...</td>\n",
              "      <td>...</td>\n",
              "      <td>...</td>\n",
              "      <td>...</td>\n",
              "      <td>...</td>\n",
              "      <td>...</td>\n",
              "      <td>...</td>\n",
              "    </tr>\n",
              "    <tr>\n",
              "      <th>298806</th>\n",
              "      <td>298806</td>\n",
              "      <td>0.07</td>\n",
              "      <td>0.0</td>\n",
              "      <td>0.000034</td>\n",
              "      <td>17</td>\n",
              "      <td>6</td>\n",
              "      <td>Duluth International</td>\n",
              "      <td>10</td>\n",
              "      <td>AVL</td>\n",
              "      <td>75</td>\n",
              "      <td>13</td>\n",
              "      <td>7</td>\n",
              "      <td>12</td>\n",
              "      <td>10</td>\n",
              "    </tr>\n",
              "    <tr>\n",
              "      <th>298807</th>\n",
              "      <td>298807</td>\n",
              "      <td>0.00</td>\n",
              "      <td>0.0</td>\n",
              "      <td>0.000254</td>\n",
              "      <td>4</td>\n",
              "      <td>3</td>\n",
              "      <td>NONE</td>\n",
              "      <td>84</td>\n",
              "      <td>EWR</td>\n",
              "      <td>16</td>\n",
              "      <td>2</td>\n",
              "      <td>3</td>\n",
              "      <td>16</td>\n",
              "      <td>518</td>\n",
              "    </tr>\n",
              "    <tr>\n",
              "      <th>298808</th>\n",
              "      <td>298808</td>\n",
              "      <td>0.01</td>\n",
              "      <td>0.0</td>\n",
              "      <td>0.000160</td>\n",
              "      <td>13</td>\n",
              "      <td>10</td>\n",
              "      <td>Orlando International</td>\n",
              "      <td>31</td>\n",
              "      <td>MCO</td>\n",
              "      <td>21</td>\n",
              "      <td>16</td>\n",
              "      <td>7</td>\n",
              "      <td>9</td>\n",
              "      <td>62</td>\n",
              "    </tr>\n",
              "    <tr>\n",
              "      <th>298809</th>\n",
              "      <td>298809</td>\n",
              "      <td>0.00</td>\n",
              "      <td>0.0</td>\n",
              "      <td>0.000062</td>\n",
              "      <td>19</td>\n",
              "      <td>7</td>\n",
              "      <td>NONE</td>\n",
              "      <td>22</td>\n",
              "      <td>LGA</td>\n",
              "      <td>11</td>\n",
              "      <td>1</td>\n",
              "      <td>3</td>\n",
              "      <td>13</td>\n",
              "      <td>10955</td>\n",
              "    </tr>\n",
              "    <tr>\n",
              "      <th>298810</th>\n",
              "      <td>298810</td>\n",
              "      <td>0.00</td>\n",
              "      <td>0.0</td>\n",
              "      <td>0.000000</td>\n",
              "      <td>14</td>\n",
              "      <td>3</td>\n",
              "      <td>San Luis Obispo County Regional</td>\n",
              "      <td>60</td>\n",
              "      <td>SBA</td>\n",
              "      <td>33</td>\n",
              "      <td>16</td>\n",
              "      <td>1</td>\n",
              "      <td>10</td>\n",
              "      <td>0</td>\n",
              "    </tr>\n",
              "  </tbody>\n",
              "</table>\n",
              "<p>298811 rows × 14 columns</p>\n",
              "</div>"
            ],
            "text/plain": [
              "            Id  PRCP  SNOW  FLT_ATTENDANTS_PER_PASS  PLANE_AGE  MONTH  \\\n",
              "0            0  0.00   0.0                 0.000144         18      7   \n",
              "1            1  0.00   0.0                 0.000144         18      4   \n",
              "2            2  0.00   0.0                 0.000000         16     10   \n",
              "3            3  0.00   0.0                 0.000254         12      9   \n",
              "4            4  0.00   0.0                 0.000034         16      8   \n",
              "...        ...   ...   ...                      ...        ...    ...   \n",
              "298806  298806  0.07   0.0                 0.000034         17      6   \n",
              "298807  298807  0.00   0.0                 0.000254          4      3   \n",
              "298808  298808  0.01   0.0                 0.000160         13     10   \n",
              "298809  298809  0.00   0.0                 0.000062         19      7   \n",
              "298810  298810  0.00   0.0                 0.000000         14      3   \n",
              "\n",
              "                                  PREVIOUS_AIRPORT  DEPARTING_AIRPORT DEST  \\\n",
              "0                            Bradley International                 48  PHL   \n",
              "1       Cincinnati/Northern Kentucky International                 41  BNA   \n",
              "2                            Norfolk International                 71  SYR   \n",
              "3                     Chicago O'Hare International                 36  ORD   \n",
              "4             Kalamazoo/Battle Creek International                 16  ERI   \n",
              "...                                            ...                ...  ...   \n",
              "298806                        Duluth International                 10  AVL   \n",
              "298807                                        NONE                 84  EWR   \n",
              "298808                       Orlando International                 31  MCO   \n",
              "298809                                        NONE                 22  LGA   \n",
              "298810             San Luis Obispo County Regional                 60  SBA   \n",
              "\n",
              "        CONCURRENT_FLIGHTS  DEP_TIME_BLK  DAY_OF_WEEK  CARRIER_NAME  \\\n",
              "0                       47            15            1             5   \n",
              "1                       40             5            5             5   \n",
              "2                       23             2            5             4   \n",
              "3                       28            15            4            16   \n",
              "4                       64            15            2            12   \n",
              "...                    ...           ...          ...           ...   \n",
              "298806                  75            13            7            12   \n",
              "298807                  16             2            3            16   \n",
              "298808                  21            16            7             9   \n",
              "298809                  11             1            3            13   \n",
              "298810                  33            16            1            10   \n",
              "\n",
              "        CARGO_HANDLING  \n",
              "0                 1462  \n",
              "1                 1462  \n",
              "2                    0  \n",
              "3                  518  \n",
              "4                   10  \n",
              "...                ...  \n",
              "298806              10  \n",
              "298807             518  \n",
              "298808              62  \n",
              "298809           10955  \n",
              "298810               0  \n",
              "\n",
              "[298811 rows x 14 columns]"
            ]
          },
          "execution_count": 301,
          "metadata": {},
          "output_type": "execute_result"
        }
      ],
      "source": [
        "test_data"
      ]
    },
    {
      "cell_type": "markdown",
      "metadata": {
        "id": "yS5kivpfqS1b"
      },
      "source": [
        "Great! Let's now do the same thing as we did before"
      ]
    },
    {
      "cell_type": "code",
      "execution_count": null,
      "metadata": {},
      "outputs": [
        {
          "name": "stderr",
          "output_type": "stream",
          "text": [
            "/var/folders/cr/m32btyq969l6md66r6d5_9cm0000gn/T/ipykernel_49883/1250543008.py:3: SettingWithCopyWarning: \n",
            "A value is trying to be set on a copy of a slice from a DataFrame.\n",
            "Try using .loc[row_indexer,col_indexer] = value instead\n",
            "\n",
            "See the caveats in the documentation: https://pandas.pydata.org/pandas-docs/stable/user_guide/indexing.html#returning-a-view-versus-a-copy\n",
            "  test_data[\"DEST\"] = dest_le.transform(test_data[\"DEST\"])\n",
            "/var/folders/cr/m32btyq969l6md66r6d5_9cm0000gn/T/ipykernel_49883/1250543008.py:6: SettingWithCopyWarning: \n",
            "A value is trying to be set on a copy of a slice from a DataFrame.\n",
            "Try using .loc[row_indexer,col_indexer] = value instead\n",
            "\n",
            "See the caveats in the documentation: https://pandas.pydata.org/pandas-docs/stable/user_guide/indexing.html#returning-a-view-versus-a-copy\n",
            "  test_data[\"CARRIER_NAME\"] = carrier_name_le.transform(test_data[\"CARRIER_NAME\"])\n",
            "/var/folders/cr/m32btyq969l6md66r6d5_9cm0000gn/T/ipykernel_49883/1250543008.py:9: SettingWithCopyWarning: \n",
            "A value is trying to be set on a copy of a slice from a DataFrame.\n",
            "Try using .loc[row_indexer,col_indexer] = value instead\n",
            "\n",
            "See the caveats in the documentation: https://pandas.pydata.org/pandas-docs/stable/user_guide/indexing.html#returning-a-view-versus-a-copy\n",
            "  test_data[\"PREVIOUS_AIRPORT\"] = previous_airport_le.transform(test_data[\"PREVIOUS_AIRPORT\"])\n",
            "/var/folders/cr/m32btyq969l6md66r6d5_9cm0000gn/T/ipykernel_49883/1250543008.py:12: SettingWithCopyWarning: \n",
            "A value is trying to be set on a copy of a slice from a DataFrame.\n",
            "Try using .loc[row_indexer,col_indexer] = value instead\n",
            "\n",
            "See the caveats in the documentation: https://pandas.pydata.org/pandas-docs/stable/user_guide/indexing.html#returning-a-view-versus-a-copy\n",
            "  test_data[\"DEP_TIME_BLK\"] = dep_time_blk_le.transform(test_data[\"DEP_TIME_BLK\"])\n",
            "/var/folders/cr/m32btyq969l6md66r6d5_9cm0000gn/T/ipykernel_49883/1250543008.py:15: SettingWithCopyWarning: \n",
            "A value is trying to be set on a copy of a slice from a DataFrame.\n",
            "Try using .loc[row_indexer,col_indexer] = value instead\n",
            "\n",
            "See the caveats in the documentation: https://pandas.pydata.org/pandas-docs/stable/user_guide/indexing.html#returning-a-view-versus-a-copy\n",
            "  test_data[\"DEPARTING_AIRPORT\"] = departing_airport_le.transform(test_data[\"DEPARTING_AIRPORT\"])\n"
          ]
        }
      ],
      "source": [
        "from sklearn.preprocessing import LabelEncoder\n",
        "dest_le = LabelEncoder().fit(test_data[\"DEST\"].tolist() + [\"UNSEEN\"])\n",
        "test_data[\"DEST\"] = dest_le.transform(test_data[\"DEST\"])\n",
        "\n",
        "carrier_name_le = LabelEncoder().fit(test_data[\"CARRIER_NAME\"].tolist()+ [\"UNSEEN\"])\n",
        "test_data[\"CARRIER_NAME\"] = carrier_name_le.transform(test_data[\"CARRIER_NAME\"])\n",
        "\n",
        "previous_airport_le = LabelEncoder().fit(test_data[\"PREVIOUS_AIRPORT\"].tolist()+ [\"UNSEEN\"])\n",
        "test_data[\"PREVIOUS_AIRPORT\"] = previous_airport_le.transform(test_data[\"PREVIOUS_AIRPORT\"])\n",
        "\n",
        "dep_time_blk_le = LabelEncoder().fit(test_data[\"DEP_TIME_BLK\"].tolist()+ [\"UNSEEN\"])\n",
        "test_data[\"DEP_TIME_BLK\"] = dep_time_blk_le.transform(test_data[\"DEP_TIME_BLK\"])\n",
        "\n",
        "departing_airport_le = LabelEncoder().fit(test_data[\"DEPARTING_AIRPORT\"].tolist()+ [\"UNSEEN\"])\n",
        "test_data[\"DEPARTING_AIRPORT\"] = departing_airport_le.transform(test_data[\"DEPARTING_AIRPORT\"])"
      ]
    },
    {
      "cell_type": "code",
      "execution_count": null,
      "metadata": {
        "id": "HJ0pbeEaqS1b"
      },
      "outputs": [],
      "source": [
        "test_data_np = test_data.to_numpy()"
      ]
    },
    {
      "cell_type": "markdown",
      "metadata": {
        "id": "TaG7W8cqqS1b"
      },
      "source": [
        "This is now entirely test data, and we don't need to split using `train_test_split` because we're not training a new model."
      ]
    },
    {
      "cell_type": "code",
      "execution_count": null,
      "metadata": {
        "id": "8gfxHAQ4qS1b"
      },
      "outputs": [],
      "source": [
        "X_TEST = test_data_np[:, 1:] # The first column is the Id column, which we do not want to keep in our predictions"
      ]
    },
    {
      "cell_type": "code",
      "execution_count": null,
      "metadata": {
        "colab": {
          "base_uri": "https://localhost:8080/",
          "height": 453
        },
        "id": "Ofk8CX8BqS1b",
        "outputId": "ff5405f4-dbe3-47fe-8603-a67726d0870d"
      },
      "outputs": [],
      "source": [
        "predictions = model.predict_proba(X_TEST)[:, 1] # Just like before"
      ]
    },
    {
      "cell_type": "code",
      "execution_count": null,
      "metadata": {
        "id": "oAo3BuGlqS1c"
      },
      "outputs": [
        {
          "data": {
            "text/plain": [
              "array([0.47, 0.44, 0.45, ..., 0.42, 0.32, 0.43])"
            ]
          },
          "execution_count": 306,
          "metadata": {},
          "output_type": "execute_result"
        }
      ],
      "source": [
        "predictions"
      ]
    },
    {
      "cell_type": "code",
      "execution_count": null,
      "metadata": {
        "id": "_nvob0GiqS1c"
      },
      "outputs": [
        {
          "data": {
            "text/plain": [
              "298811"
            ]
          },
          "execution_count": 307,
          "metadata": {},
          "output_type": "execute_result"
        }
      ],
      "source": [
        "len(predictions)"
      ]
    },
    {
      "cell_type": "markdown",
      "metadata": {
        "id": "rC2-o2IvqS1c"
      },
      "source": [
        "Now, time to make our submission file! The submission file has two columns to named exactly this way. \"Id\", and \"IS_DELAYED\""
      ]
    },
    {
      "cell_type": "code",
      "execution_count": null,
      "metadata": {
        "id": "qMIeGA12qS1c"
      },
      "outputs": [],
      "source": [
        "submission = test_data[[\"Id\"]]"
      ]
    },
    {
      "cell_type": "code",
      "execution_count": null,
      "metadata": {
        "id": "QBu8P8KMqS1c"
      },
      "outputs": [
        {
          "data": {
            "text/html": [
              "<div>\n",
              "<style scoped>\n",
              "    .dataframe tbody tr th:only-of-type {\n",
              "        vertical-align: middle;\n",
              "    }\n",
              "\n",
              "    .dataframe tbody tr th {\n",
              "        vertical-align: top;\n",
              "    }\n",
              "\n",
              "    .dataframe thead th {\n",
              "        text-align: right;\n",
              "    }\n",
              "</style>\n",
              "<table border=\"1\" class=\"dataframe\">\n",
              "  <thead>\n",
              "    <tr style=\"text-align: right;\">\n",
              "      <th></th>\n",
              "      <th>Id</th>\n",
              "    </tr>\n",
              "  </thead>\n",
              "  <tbody>\n",
              "    <tr>\n",
              "      <th>0</th>\n",
              "      <td>0</td>\n",
              "    </tr>\n",
              "    <tr>\n",
              "      <th>1</th>\n",
              "      <td>1</td>\n",
              "    </tr>\n",
              "    <tr>\n",
              "      <th>2</th>\n",
              "      <td>2</td>\n",
              "    </tr>\n",
              "    <tr>\n",
              "      <th>3</th>\n",
              "      <td>3</td>\n",
              "    </tr>\n",
              "    <tr>\n",
              "      <th>4</th>\n",
              "      <td>4</td>\n",
              "    </tr>\n",
              "    <tr>\n",
              "      <th>...</th>\n",
              "      <td>...</td>\n",
              "    </tr>\n",
              "    <tr>\n",
              "      <th>298806</th>\n",
              "      <td>298806</td>\n",
              "    </tr>\n",
              "    <tr>\n",
              "      <th>298807</th>\n",
              "      <td>298807</td>\n",
              "    </tr>\n",
              "    <tr>\n",
              "      <th>298808</th>\n",
              "      <td>298808</td>\n",
              "    </tr>\n",
              "    <tr>\n",
              "      <th>298809</th>\n",
              "      <td>298809</td>\n",
              "    </tr>\n",
              "    <tr>\n",
              "      <th>298810</th>\n",
              "      <td>298810</td>\n",
              "    </tr>\n",
              "  </tbody>\n",
              "</table>\n",
              "<p>298811 rows × 1 columns</p>\n",
              "</div>"
            ],
            "text/plain": [
              "            Id\n",
              "0            0\n",
              "1            1\n",
              "2            2\n",
              "3            3\n",
              "4            4\n",
              "...        ...\n",
              "298806  298806\n",
              "298807  298807\n",
              "298808  298808\n",
              "298809  298809\n",
              "298810  298810\n",
              "\n",
              "[298811 rows x 1 columns]"
            ]
          },
          "execution_count": 309,
          "metadata": {},
          "output_type": "execute_result"
        }
      ],
      "source": [
        "submission"
      ]
    },
    {
      "cell_type": "code",
      "execution_count": null,
      "metadata": {
        "id": "kKPQClaDqS1d"
      },
      "outputs": [
        {
          "name": "stderr",
          "output_type": "stream",
          "text": [
            "/var/folders/cr/m32btyq969l6md66r6d5_9cm0000gn/T/ipykernel_49883/3329059061.py:1: SettingWithCopyWarning: \n",
            "A value is trying to be set on a copy of a slice from a DataFrame.\n",
            "Try using .loc[row_indexer,col_indexer] = value instead\n",
            "\n",
            "See the caveats in the documentation: https://pandas.pydata.org/pandas-docs/stable/user_guide/indexing.html#returning-a-view-versus-a-copy\n",
            "  submission[\"IS_DELAYED\"] = predictions\n"
          ]
        }
      ],
      "source": [
        "submission[\"IS_DELAYED\"] = predictions"
      ]
    },
    {
      "cell_type": "code",
      "execution_count": null,
      "metadata": {
        "id": "Kl0wSu87qS1d"
      },
      "outputs": [
        {
          "data": {
            "text/html": [
              "<div>\n",
              "<style scoped>\n",
              "    .dataframe tbody tr th:only-of-type {\n",
              "        vertical-align: middle;\n",
              "    }\n",
              "\n",
              "    .dataframe tbody tr th {\n",
              "        vertical-align: top;\n",
              "    }\n",
              "\n",
              "    .dataframe thead th {\n",
              "        text-align: right;\n",
              "    }\n",
              "</style>\n",
              "<table border=\"1\" class=\"dataframe\">\n",
              "  <thead>\n",
              "    <tr style=\"text-align: right;\">\n",
              "      <th></th>\n",
              "      <th>Id</th>\n",
              "      <th>IS_DELAYED</th>\n",
              "    </tr>\n",
              "  </thead>\n",
              "  <tbody>\n",
              "    <tr>\n",
              "      <th>0</th>\n",
              "      <td>0</td>\n",
              "      <td>0.47</td>\n",
              "    </tr>\n",
              "    <tr>\n",
              "      <th>1</th>\n",
              "      <td>1</td>\n",
              "      <td>0.44</td>\n",
              "    </tr>\n",
              "    <tr>\n",
              "      <th>2</th>\n",
              "      <td>2</td>\n",
              "      <td>0.45</td>\n",
              "    </tr>\n",
              "    <tr>\n",
              "      <th>3</th>\n",
              "      <td>3</td>\n",
              "      <td>0.39</td>\n",
              "    </tr>\n",
              "    <tr>\n",
              "      <th>4</th>\n",
              "      <td>4</td>\n",
              "      <td>0.51</td>\n",
              "    </tr>\n",
              "    <tr>\n",
              "      <th>...</th>\n",
              "      <td>...</td>\n",
              "      <td>...</td>\n",
              "    </tr>\n",
              "    <tr>\n",
              "      <th>298806</th>\n",
              "      <td>298806</td>\n",
              "      <td>0.35</td>\n",
              "    </tr>\n",
              "    <tr>\n",
              "      <th>298807</th>\n",
              "      <td>298807</td>\n",
              "      <td>0.58</td>\n",
              "    </tr>\n",
              "    <tr>\n",
              "      <th>298808</th>\n",
              "      <td>298808</td>\n",
              "      <td>0.42</td>\n",
              "    </tr>\n",
              "    <tr>\n",
              "      <th>298809</th>\n",
              "      <td>298809</td>\n",
              "      <td>0.32</td>\n",
              "    </tr>\n",
              "    <tr>\n",
              "      <th>298810</th>\n",
              "      <td>298810</td>\n",
              "      <td>0.43</td>\n",
              "    </tr>\n",
              "  </tbody>\n",
              "</table>\n",
              "<p>298811 rows × 2 columns</p>\n",
              "</div>"
            ],
            "text/plain": [
              "            Id  IS_DELAYED\n",
              "0            0        0.47\n",
              "1            1        0.44\n",
              "2            2        0.45\n",
              "3            3        0.39\n",
              "4            4        0.51\n",
              "...        ...         ...\n",
              "298806  298806        0.35\n",
              "298807  298807        0.58\n",
              "298808  298808        0.42\n",
              "298809  298809        0.32\n",
              "298810  298810        0.43\n",
              "\n",
              "[298811 rows x 2 columns]"
            ]
          },
          "execution_count": 311,
          "metadata": {},
          "output_type": "execute_result"
        }
      ],
      "source": [
        "submission"
      ]
    },
    {
      "cell_type": "markdown",
      "metadata": {
        "id": "E0rdJRXAqS1d"
      },
      "source": [
        "Now, we save the dataframe into a CSV"
      ]
    },
    {
      "cell_type": "code",
      "execution_count": null,
      "metadata": {
        "id": "Vrjh2dU8qS1e"
      },
      "outputs": [],
      "source": [
        "submission.to_csv(\"test_submission.csv\", index=False)"
      ]
    }
  ],
  "metadata": {
    "colab": {
      "provenance": []
    },
    "kernelspec": {
      "display_name": "Python 3",
      "language": "python",
      "name": "python3"
    },
    "language_info": {
      "codemirror_mode": {
        "name": "ipython",
        "version": 3
      },
      "file_extension": ".py",
      "mimetype": "text/x-python",
      "name": "python",
      "nbconvert_exporter": "python",
      "pygments_lexer": "ipython3",
      "version": "3.11.5"
    }
  },
  "nbformat": 4,
  "nbformat_minor": 0
}
